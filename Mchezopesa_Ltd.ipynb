{
  "nbformat": 4,
  "nbformat_minor": 0,
  "metadata": {
    "colab": {
      "name": "Mchezopesa_Ltd.ipynb",
      "provenance": [],
      "collapsed_sections": []
    },
    "kernelspec": {
      "name": "python3",
      "display_name": "Python 3"
    },
    "language_info": {
      "name": "python"
    }
  },
  "cells": [
    {
      "cell_type": "markdown",
      "metadata": {
        "id": "15yU5rwld6Pj"
      },
      "source": [
        "\n",
        "#MCHEZOPESA LTD MATCH OUTCOME PREDICTION \n",
        "\n",
        "**a) Data Analytic Questions**\n",
        "\n",
        "We need to predictd result of a game between team 1 and team 2, based on who's home and who's away, and on whether or not the game is friendly.\n",
        "\n",
        "**b) Success Metrics**\n",
        "\n",
        "* Sucessful Exploratory Data Analysis.\n",
        "* Sucessful feature engineering.\n",
        "* Sucessful check of multicollinearity.\n",
        "* Sucessful modeling.\n",
        "* Sucessful Cross-validation of the model.\n",
        "* Sucessful Computation of the RMSE\n",
        "* Creation  of residual plots for the model\n",
        "* Sucessful assessment their heteroscedasticity using Bartlett’s test\n",
        "\n",
        "**c) context**\n",
        "\n",
        "The aim of this project is to predict match outcomes of football matches, based on historical data that includes basic match data and FIFA ranking. In attempting to solve this problem, the analyst will perform;\n",
        "* Feature transformation and dimensionality reduction techniques so as to increase the quality of the feature space. \n",
        "* Compare multiple classification algorithms and choose the one that performs best on a separate test dataset. \n",
        "* Finally apply probability calibration methods based on isotonic regression to increase the quality of class probability estimates.\n",
        "\n",
        "\n",
        "**d) Experimental Design**\n",
        "\n",
        "* Formulation of the research question.\n",
        "* Loading the data.\n",
        "* Exploratory Data Analysis.\n",
        "* feature engineering.\n",
        "* Multicollinearity check.\n",
        "* Modeling.\n",
        "* Cross-validation of the model.\n",
        "* Computation of the RMSE.\n",
        "* Creation  of residual plots for the model\n",
        "* Heteroscedasticity assessment via Bartlett’s test\n",
        "* Challenge the solution.\n",
        "* Follow up."
      ]
    },
    {
      "cell_type": "markdown",
      "metadata": {
        "id": "wVwb9It_lNNn"
      },
      "source": [
        "#MATCH OUTCOME PREDICTION"
      ]
    },
    {
      "cell_type": "markdown",
      "metadata": {
        "id": "Cj4PVAnJlBbW"
      },
      "source": [
        "\n",
        "#Loading required libraries"
      ]
    },
    {
      "cell_type": "code",
      "metadata": {
        "id": "3X0rsnHolt1l"
      },
      "source": [
        "#Required libraries\n",
        "import sqlite3\n",
        "import pandas as pd\n",
        "import numpy as np\n",
        "import seaborn as sns\n",
        "import itertools\n",
        "import matplotlib.pyplot as plt\n",
        "from sklearn.ensemble import GradientBoostingClassifier\n",
        "from sklearn.ensemble import AdaBoostClassifier \n",
        "from sklearn.ensemble import RandomForestClassifier\n",
        "from sklearn.naive_bayes import GaussianNB\n",
        "from sklearn.neighbors import KNeighborsClassifier\n",
        "from sklearn import linear_model\n",
        "from sklearn.metrics import confusion_matrix\n",
        "from sklearn.metrics import classification_report, accuracy_score\n",
        "from sklearn.calibration import CalibratedClassifierCV\n",
        "from sklearn import model_selection\n",
        "from sklearn.model_selection import train_test_split\n",
        "from sklearn.metrics import make_scorer\n",
        "from time import time\n",
        "from sklearn.decomposition import PCA, FastICA\n",
        "from sklearn.pipeline import Pipeline\n",
        "import warnings\n",
        "\n",
        "warnings.simplefilter(\"ignore\")"
      ],
      "execution_count": 1,
      "outputs": []
    },
    {
      "cell_type": "markdown",
      "metadata": {
        "id": "pS6hb4cnL_Us"
      },
      "source": [
        "# READING IN THE DATASET\n",
        "\n",
        "#*Fifa_ranking data*"
      ]
    },
    {
      "cell_type": "code",
      "metadata": {
        "colab": {
          "base_uri": "https://localhost:8080/"
        },
        "id": "P5ipu-fnL7jI",
        "outputId": "43baefdc-d7a6-45e7-c9e8-b84f216ac381"
      },
      "source": [
        "fifa_ranking=pd.read_csv(\"fifa_ranking.csv\")\n",
        "# check the shape \n",
        "fifa_ranking.shape\n"
      ],
      "execution_count": 2,
      "outputs": [
        {
          "output_type": "execute_result",
          "data": {
            "text/plain": [
              "(57793, 16)"
            ]
          },
          "metadata": {
            "tags": []
          },
          "execution_count": 2
        }
      ]
    },
    {
      "cell_type": "markdown",
      "metadata": {
        "id": "afCvV3VFZuev"
      },
      "source": [
        "Top three"
      ]
    },
    {
      "cell_type": "code",
      "metadata": {
        "colab": {
          "base_uri": "https://localhost:8080/",
          "height": 206
        },
        "id": "JAD4JkXQXWT2",
        "outputId": "b6710b1b-4efa-489b-c139-86555befc0d3"
      },
      "source": [
        "fifa_ranking.head(3)"
      ],
      "execution_count": 3,
      "outputs": [
        {
          "output_type": "execute_result",
          "data": {
            "text/html": [
              "<div>\n",
              "<style scoped>\n",
              "    .dataframe tbody tr th:only-of-type {\n",
              "        vertical-align: middle;\n",
              "    }\n",
              "\n",
              "    .dataframe tbody tr th {\n",
              "        vertical-align: top;\n",
              "    }\n",
              "\n",
              "    .dataframe thead th {\n",
              "        text-align: right;\n",
              "    }\n",
              "</style>\n",
              "<table border=\"1\" class=\"dataframe\">\n",
              "  <thead>\n",
              "    <tr style=\"text-align: right;\">\n",
              "      <th></th>\n",
              "      <th>rank</th>\n",
              "      <th>country_full</th>\n",
              "      <th>country_abrv</th>\n",
              "      <th>total_points</th>\n",
              "      <th>previous_points</th>\n",
              "      <th>rank_change</th>\n",
              "      <th>cur_year_avg</th>\n",
              "      <th>cur_year_avg_weighted</th>\n",
              "      <th>last_year_avg</th>\n",
              "      <th>last_year_avg_weighted</th>\n",
              "      <th>two_year_ago_avg</th>\n",
              "      <th>two_year_ago_weighted</th>\n",
              "      <th>three_year_ago_avg</th>\n",
              "      <th>three_year_ago_weighted</th>\n",
              "      <th>confederation</th>\n",
              "      <th>rank_date</th>\n",
              "    </tr>\n",
              "  </thead>\n",
              "  <tbody>\n",
              "    <tr>\n",
              "      <th>0</th>\n",
              "      <td>1</td>\n",
              "      <td>Germany</td>\n",
              "      <td>GER</td>\n",
              "      <td>0.0</td>\n",
              "      <td>57</td>\n",
              "      <td>0</td>\n",
              "      <td>0.0</td>\n",
              "      <td>0.0</td>\n",
              "      <td>0.0</td>\n",
              "      <td>0.0</td>\n",
              "      <td>0.0</td>\n",
              "      <td>0.0</td>\n",
              "      <td>0.0</td>\n",
              "      <td>0.0</td>\n",
              "      <td>UEFA</td>\n",
              "      <td>1993-08-08</td>\n",
              "    </tr>\n",
              "    <tr>\n",
              "      <th>1</th>\n",
              "      <td>2</td>\n",
              "      <td>Italy</td>\n",
              "      <td>ITA</td>\n",
              "      <td>0.0</td>\n",
              "      <td>57</td>\n",
              "      <td>0</td>\n",
              "      <td>0.0</td>\n",
              "      <td>0.0</td>\n",
              "      <td>0.0</td>\n",
              "      <td>0.0</td>\n",
              "      <td>0.0</td>\n",
              "      <td>0.0</td>\n",
              "      <td>0.0</td>\n",
              "      <td>0.0</td>\n",
              "      <td>UEFA</td>\n",
              "      <td>1993-08-08</td>\n",
              "    </tr>\n",
              "    <tr>\n",
              "      <th>2</th>\n",
              "      <td>3</td>\n",
              "      <td>Switzerland</td>\n",
              "      <td>SUI</td>\n",
              "      <td>0.0</td>\n",
              "      <td>50</td>\n",
              "      <td>9</td>\n",
              "      <td>0.0</td>\n",
              "      <td>0.0</td>\n",
              "      <td>0.0</td>\n",
              "      <td>0.0</td>\n",
              "      <td>0.0</td>\n",
              "      <td>0.0</td>\n",
              "      <td>0.0</td>\n",
              "      <td>0.0</td>\n",
              "      <td>UEFA</td>\n",
              "      <td>1993-08-08</td>\n",
              "    </tr>\n",
              "  </tbody>\n",
              "</table>\n",
              "</div>"
            ],
            "text/plain": [
              "   rank country_full  ... confederation   rank_date\n",
              "0     1      Germany  ...          UEFA  1993-08-08\n",
              "1     2        Italy  ...          UEFA  1993-08-08\n",
              "2     3  Switzerland  ...          UEFA  1993-08-08\n",
              "\n",
              "[3 rows x 16 columns]"
            ]
          },
          "metadata": {
            "tags": []
          },
          "execution_count": 3
        }
      ]
    },
    {
      "cell_type": "markdown",
      "metadata": {
        "id": "qAtwbdECZ0bX"
      },
      "source": [
        "Bottom three"
      ]
    },
    {
      "cell_type": "code",
      "metadata": {
        "colab": {
          "base_uri": "https://localhost:8080/",
          "height": 206
        },
        "id": "y0CExdOIVhQG",
        "outputId": "809fbcb9-93d2-4202-d8cd-25ea672bfe1e"
      },
      "source": [
        "#Check bottom 3 columns\n",
        "fifa_ranking.tail(3)"
      ],
      "execution_count": 4,
      "outputs": [
        {
          "output_type": "execute_result",
          "data": {
            "text/html": [
              "<div>\n",
              "<style scoped>\n",
              "    .dataframe tbody tr th:only-of-type {\n",
              "        vertical-align: middle;\n",
              "    }\n",
              "\n",
              "    .dataframe tbody tr th {\n",
              "        vertical-align: top;\n",
              "    }\n",
              "\n",
              "    .dataframe thead th {\n",
              "        text-align: right;\n",
              "    }\n",
              "</style>\n",
              "<table border=\"1\" class=\"dataframe\">\n",
              "  <thead>\n",
              "    <tr style=\"text-align: right;\">\n",
              "      <th></th>\n",
              "      <th>rank</th>\n",
              "      <th>country_full</th>\n",
              "      <th>country_abrv</th>\n",
              "      <th>total_points</th>\n",
              "      <th>previous_points</th>\n",
              "      <th>rank_change</th>\n",
              "      <th>cur_year_avg</th>\n",
              "      <th>cur_year_avg_weighted</th>\n",
              "      <th>last_year_avg</th>\n",
              "      <th>last_year_avg_weighted</th>\n",
              "      <th>two_year_ago_avg</th>\n",
              "      <th>two_year_ago_weighted</th>\n",
              "      <th>three_year_ago_avg</th>\n",
              "      <th>three_year_ago_weighted</th>\n",
              "      <th>confederation</th>\n",
              "      <th>rank_date</th>\n",
              "    </tr>\n",
              "  </thead>\n",
              "  <tbody>\n",
              "    <tr>\n",
              "      <th>57790</th>\n",
              "      <td>206</td>\n",
              "      <td>Eritrea</td>\n",
              "      <td>ERI</td>\n",
              "      <td>0.0</td>\n",
              "      <td>0</td>\n",
              "      <td>1</td>\n",
              "      <td>0.0</td>\n",
              "      <td>0.0</td>\n",
              "      <td>0.0</td>\n",
              "      <td>0.0</td>\n",
              "      <td>0.0</td>\n",
              "      <td>0.0</td>\n",
              "      <td>0.0</td>\n",
              "      <td>0.0</td>\n",
              "      <td>CAF</td>\n",
              "      <td>2018-06-07</td>\n",
              "    </tr>\n",
              "    <tr>\n",
              "      <th>57791</th>\n",
              "      <td>206</td>\n",
              "      <td>Somalia</td>\n",
              "      <td>SOM</td>\n",
              "      <td>0.0</td>\n",
              "      <td>0</td>\n",
              "      <td>1</td>\n",
              "      <td>0.0</td>\n",
              "      <td>0.0</td>\n",
              "      <td>0.0</td>\n",
              "      <td>0.0</td>\n",
              "      <td>0.0</td>\n",
              "      <td>0.0</td>\n",
              "      <td>0.0</td>\n",
              "      <td>0.0</td>\n",
              "      <td>CAF</td>\n",
              "      <td>2018-06-07</td>\n",
              "    </tr>\n",
              "    <tr>\n",
              "      <th>57792</th>\n",
              "      <td>206</td>\n",
              "      <td>Tonga</td>\n",
              "      <td>TGA</td>\n",
              "      <td>0.0</td>\n",
              "      <td>0</td>\n",
              "      <td>1</td>\n",
              "      <td>0.0</td>\n",
              "      <td>0.0</td>\n",
              "      <td>0.0</td>\n",
              "      <td>0.0</td>\n",
              "      <td>0.0</td>\n",
              "      <td>0.0</td>\n",
              "      <td>0.0</td>\n",
              "      <td>0.0</td>\n",
              "      <td>OFC</td>\n",
              "      <td>2018-06-07</td>\n",
              "    </tr>\n",
              "  </tbody>\n",
              "</table>\n",
              "</div>"
            ],
            "text/plain": [
              "       rank country_full  ... confederation   rank_date\n",
              "57790   206      Eritrea  ...           CAF  2018-06-07\n",
              "57791   206      Somalia  ...           CAF  2018-06-07\n",
              "57792   206        Tonga  ...           OFC  2018-06-07\n",
              "\n",
              "[3 rows x 16 columns]"
            ]
          },
          "metadata": {
            "tags": []
          },
          "execution_count": 4
        }
      ]
    },
    {
      "cell_type": "markdown",
      "metadata": {
        "id": "vE2sd19uZ-5A"
      },
      "source": [
        "Data info"
      ]
    },
    {
      "cell_type": "code",
      "metadata": {
        "colab": {
          "base_uri": "https://localhost:8080/"
        },
        "id": "LxP3N2fjYjs_",
        "outputId": "e4fee116-a94b-4820-bfed-79cf44bfb08d"
      },
      "source": [
        "fifa_ranking.info()"
      ],
      "execution_count": 5,
      "outputs": [
        {
          "output_type": "stream",
          "text": [
            "<class 'pandas.core.frame.DataFrame'>\n",
            "RangeIndex: 57793 entries, 0 to 57792\n",
            "Data columns (total 16 columns):\n",
            " #   Column                   Non-Null Count  Dtype  \n",
            "---  ------                   --------------  -----  \n",
            " 0   rank                     57793 non-null  int64  \n",
            " 1   country_full             57793 non-null  object \n",
            " 2   country_abrv             57793 non-null  object \n",
            " 3   total_points             57793 non-null  float64\n",
            " 4   previous_points          57793 non-null  int64  \n",
            " 5   rank_change              57793 non-null  int64  \n",
            " 6   cur_year_avg             57793 non-null  float64\n",
            " 7   cur_year_avg_weighted    57793 non-null  float64\n",
            " 8   last_year_avg            57793 non-null  float64\n",
            " 9   last_year_avg_weighted   57793 non-null  float64\n",
            " 10  two_year_ago_avg         57793 non-null  float64\n",
            " 11  two_year_ago_weighted    57793 non-null  float64\n",
            " 12  three_year_ago_avg       57793 non-null  float64\n",
            " 13  three_year_ago_weighted  57793 non-null  float64\n",
            " 14  confederation            57793 non-null  object \n",
            " 15  rank_date                57793 non-null  object \n",
            "dtypes: float64(9), int64(3), object(4)\n",
            "memory usage: 7.1+ MB\n"
          ],
          "name": "stdout"
        }
      ]
    },
    {
      "cell_type": "markdown",
      "metadata": {
        "id": "zZt4070DhzH3"
      },
      "source": [
        "*Convert the rank_date column to date format*"
      ]
    },
    {
      "cell_type": "code",
      "metadata": {
        "colab": {
          "base_uri": "https://localhost:8080/",
          "height": 206
        },
        "id": "wMx-9-uMhulZ",
        "outputId": "63ab0081-18d8-40cc-905a-a29e8efe840b"
      },
      "source": [
        "fifa_ranking['rank_date'] = pd.to_datetime(fifa_ranking['rank_date'])\n",
        "#introduce new column year month\n",
        "fifa_ranking['year_month'] = pd.to_datetime(fifa_ranking['rank_date']).dt.to_period('M')\n",
        "fifa_ranking=fifa_ranking\n",
        "fifa_ranking.sample(3)"
      ],
      "execution_count": 6,
      "outputs": [
        {
          "output_type": "execute_result",
          "data": {
            "text/html": [
              "<div>\n",
              "<style scoped>\n",
              "    .dataframe tbody tr th:only-of-type {\n",
              "        vertical-align: middle;\n",
              "    }\n",
              "\n",
              "    .dataframe tbody tr th {\n",
              "        vertical-align: top;\n",
              "    }\n",
              "\n",
              "    .dataframe thead th {\n",
              "        text-align: right;\n",
              "    }\n",
              "</style>\n",
              "<table border=\"1\" class=\"dataframe\">\n",
              "  <thead>\n",
              "    <tr style=\"text-align: right;\">\n",
              "      <th></th>\n",
              "      <th>rank</th>\n",
              "      <th>country_full</th>\n",
              "      <th>country_abrv</th>\n",
              "      <th>total_points</th>\n",
              "      <th>previous_points</th>\n",
              "      <th>rank_change</th>\n",
              "      <th>cur_year_avg</th>\n",
              "      <th>cur_year_avg_weighted</th>\n",
              "      <th>last_year_avg</th>\n",
              "      <th>last_year_avg_weighted</th>\n",
              "      <th>two_year_ago_avg</th>\n",
              "      <th>two_year_ago_weighted</th>\n",
              "      <th>three_year_ago_avg</th>\n",
              "      <th>three_year_ago_weighted</th>\n",
              "      <th>confederation</th>\n",
              "      <th>rank_date</th>\n",
              "      <th>year_month</th>\n",
              "    </tr>\n",
              "  </thead>\n",
              "  <tbody>\n",
              "    <tr>\n",
              "      <th>18781</th>\n",
              "      <td>22</td>\n",
              "      <td>Sweden</td>\n",
              "      <td>SWE</td>\n",
              "      <td>0.00</td>\n",
              "      <td>673</td>\n",
              "      <td>-2</td>\n",
              "      <td>0.00</td>\n",
              "      <td>0.00</td>\n",
              "      <td>0.00</td>\n",
              "      <td>0.00</td>\n",
              "      <td>0.00</td>\n",
              "      <td>0.00</td>\n",
              "      <td>0.00</td>\n",
              "      <td>0.00</td>\n",
              "      <td>UEFA</td>\n",
              "      <td>2002-09-18</td>\n",
              "      <td>2002-09</td>\n",
              "    </tr>\n",
              "    <tr>\n",
              "      <th>46709</th>\n",
              "      <td>51</td>\n",
              "      <td>Wales</td>\n",
              "      <td>WAL</td>\n",
              "      <td>597.53</td>\n",
              "      <td>574</td>\n",
              "      <td>4</td>\n",
              "      <td>340.06</td>\n",
              "      <td>340.06</td>\n",
              "      <td>184.50</td>\n",
              "      <td>92.25</td>\n",
              "      <td>527.00</td>\n",
              "      <td>158.10</td>\n",
              "      <td>35.57</td>\n",
              "      <td>7.11</td>\n",
              "      <td>UEFA</td>\n",
              "      <td>2014-02-13</td>\n",
              "      <td>2014-02</td>\n",
              "    </tr>\n",
              "    <tr>\n",
              "      <th>54280</th>\n",
              "      <td>75</td>\n",
              "      <td>Uganda</td>\n",
              "      <td>UGA</td>\n",
              "      <td>464.08</td>\n",
              "      <td>476</td>\n",
              "      <td>-2</td>\n",
              "      <td>212.96</td>\n",
              "      <td>212.96</td>\n",
              "      <td>271.18</td>\n",
              "      <td>135.59</td>\n",
              "      <td>257.82</td>\n",
              "      <td>77.34</td>\n",
              "      <td>190.95</td>\n",
              "      <td>38.19</td>\n",
              "      <td>CAF</td>\n",
              "      <td>2017-02-09</td>\n",
              "      <td>2017-02</td>\n",
              "    </tr>\n",
              "  </tbody>\n",
              "</table>\n",
              "</div>"
            ],
            "text/plain": [
              "       rank country_full country_abrv  ...  confederation  rank_date  year_month\n",
              "18781    22       Sweden          SWE  ...           UEFA 2002-09-18     2002-09\n",
              "46709    51        Wales          WAL  ...           UEFA 2014-02-13     2014-02\n",
              "54280    75       Uganda          UGA  ...            CAF 2017-02-09     2017-02\n",
              "\n",
              "[3 rows x 17 columns]"
            ]
          },
          "metadata": {
            "tags": []
          },
          "execution_count": 6
        }
      ]
    },
    {
      "cell_type": "markdown",
      "metadata": {
        "id": "zvV3MPEarzU4"
      },
      "source": [
        "*Rename the rank_date column to date*"
      ]
    },
    {
      "cell_type": "code",
      "metadata": {
        "id": "zLotl0Cmr95c"
      },
      "source": [
        "#fifa_ranking.rename(columns = { 'year_month': 'date'}, inplace = False)\n",
        "#fifa_ranking.sample(1)"
      ],
      "execution_count": 7,
      "outputs": []
    },
    {
      "cell_type": "markdown",
      "metadata": {
        "id": "4-RtaQBdVblL"
      },
      "source": [
        "#*Results data*"
      ]
    },
    {
      "cell_type": "code",
      "metadata": {
        "colab": {
          "base_uri": "https://localhost:8080/"
        },
        "id": "y-WKXPPuPCEF",
        "outputId": "a3c23d2e-1f60-4387-c7e3-1950b586b706"
      },
      "source": [
        "results=pd.read_csv(\"results.csv\")\n",
        " \n",
        "results.shape\n"
      ],
      "execution_count": 8,
      "outputs": [
        {
          "output_type": "execute_result",
          "data": {
            "text/plain": [
              "(40839, 9)"
            ]
          },
          "metadata": {
            "tags": []
          },
          "execution_count": 8
        }
      ]
    },
    {
      "cell_type": "markdown",
      "metadata": {
        "id": "iW2PY8CnaFnk"
      },
      "source": [
        "Top three"
      ]
    },
    {
      "cell_type": "code",
      "metadata": {
        "colab": {
          "base_uri": "https://localhost:8080/",
          "height": 136
        },
        "id": "a3RJ8iCTYFHU",
        "outputId": "d2c96e43-6330-42c9-aab8-5c514aa3d550"
      },
      "source": [
        "results.head(3)"
      ],
      "execution_count": 9,
      "outputs": [
        {
          "output_type": "execute_result",
          "data": {
            "text/html": [
              "<div>\n",
              "<style scoped>\n",
              "    .dataframe tbody tr th:only-of-type {\n",
              "        vertical-align: middle;\n",
              "    }\n",
              "\n",
              "    .dataframe tbody tr th {\n",
              "        vertical-align: top;\n",
              "    }\n",
              "\n",
              "    .dataframe thead th {\n",
              "        text-align: right;\n",
              "    }\n",
              "</style>\n",
              "<table border=\"1\" class=\"dataframe\">\n",
              "  <thead>\n",
              "    <tr style=\"text-align: right;\">\n",
              "      <th></th>\n",
              "      <th>date</th>\n",
              "      <th>home_team</th>\n",
              "      <th>away_team</th>\n",
              "      <th>home_score</th>\n",
              "      <th>away_score</th>\n",
              "      <th>tournament</th>\n",
              "      <th>city</th>\n",
              "      <th>country</th>\n",
              "      <th>neutral</th>\n",
              "    </tr>\n",
              "  </thead>\n",
              "  <tbody>\n",
              "    <tr>\n",
              "      <th>0</th>\n",
              "      <td>1872-11-30</td>\n",
              "      <td>Scotland</td>\n",
              "      <td>England</td>\n",
              "      <td>0</td>\n",
              "      <td>0</td>\n",
              "      <td>Friendly</td>\n",
              "      <td>Glasgow</td>\n",
              "      <td>Scotland</td>\n",
              "      <td>False</td>\n",
              "    </tr>\n",
              "    <tr>\n",
              "      <th>1</th>\n",
              "      <td>1873-03-08</td>\n",
              "      <td>England</td>\n",
              "      <td>Scotland</td>\n",
              "      <td>4</td>\n",
              "      <td>2</td>\n",
              "      <td>Friendly</td>\n",
              "      <td>London</td>\n",
              "      <td>England</td>\n",
              "      <td>False</td>\n",
              "    </tr>\n",
              "    <tr>\n",
              "      <th>2</th>\n",
              "      <td>1874-03-07</td>\n",
              "      <td>Scotland</td>\n",
              "      <td>England</td>\n",
              "      <td>2</td>\n",
              "      <td>1</td>\n",
              "      <td>Friendly</td>\n",
              "      <td>Glasgow</td>\n",
              "      <td>Scotland</td>\n",
              "      <td>False</td>\n",
              "    </tr>\n",
              "  </tbody>\n",
              "</table>\n",
              "</div>"
            ],
            "text/plain": [
              "         date home_team away_team  ...     city   country neutral\n",
              "0  1872-11-30  Scotland   England  ...  Glasgow  Scotland   False\n",
              "1  1873-03-08   England  Scotland  ...   London   England   False\n",
              "2  1874-03-07  Scotland   England  ...  Glasgow  Scotland   False\n",
              "\n",
              "[3 rows x 9 columns]"
            ]
          },
          "metadata": {
            "tags": []
          },
          "execution_count": 9
        }
      ]
    },
    {
      "cell_type": "markdown",
      "metadata": {
        "id": "Rg05X9HDaJOs"
      },
      "source": [
        "Bottom three"
      ]
    },
    {
      "cell_type": "code",
      "metadata": {
        "colab": {
          "base_uri": "https://localhost:8080/",
          "height": 136
        },
        "id": "hKnrHJ9rWVQA",
        "outputId": "2418e593-9218-4ac2-8a71-dcddd5ce1eac"
      },
      "source": [
        "results.tail(3)"
      ],
      "execution_count": 10,
      "outputs": [
        {
          "output_type": "execute_result",
          "data": {
            "text/html": [
              "<div>\n",
              "<style scoped>\n",
              "    .dataframe tbody tr th:only-of-type {\n",
              "        vertical-align: middle;\n",
              "    }\n",
              "\n",
              "    .dataframe tbody tr th {\n",
              "        vertical-align: top;\n",
              "    }\n",
              "\n",
              "    .dataframe thead th {\n",
              "        text-align: right;\n",
              "    }\n",
              "</style>\n",
              "<table border=\"1\" class=\"dataframe\">\n",
              "  <thead>\n",
              "    <tr style=\"text-align: right;\">\n",
              "      <th></th>\n",
              "      <th>date</th>\n",
              "      <th>home_team</th>\n",
              "      <th>away_team</th>\n",
              "      <th>home_score</th>\n",
              "      <th>away_score</th>\n",
              "      <th>tournament</th>\n",
              "      <th>city</th>\n",
              "      <th>country</th>\n",
              "      <th>neutral</th>\n",
              "    </tr>\n",
              "  </thead>\n",
              "  <tbody>\n",
              "    <tr>\n",
              "      <th>40836</th>\n",
              "      <td>2019-07-19</td>\n",
              "      <td>Senegal</td>\n",
              "      <td>Algeria</td>\n",
              "      <td>0</td>\n",
              "      <td>1</td>\n",
              "      <td>African Cup of Nations</td>\n",
              "      <td>Cairo</td>\n",
              "      <td>Egypt</td>\n",
              "      <td>True</td>\n",
              "    </tr>\n",
              "    <tr>\n",
              "      <th>40837</th>\n",
              "      <td>2019-07-19</td>\n",
              "      <td>Tajikistan</td>\n",
              "      <td>North Korea</td>\n",
              "      <td>0</td>\n",
              "      <td>1</td>\n",
              "      <td>Intercontinental Cup</td>\n",
              "      <td>Ahmedabad</td>\n",
              "      <td>India</td>\n",
              "      <td>True</td>\n",
              "    </tr>\n",
              "    <tr>\n",
              "      <th>40838</th>\n",
              "      <td>2019-07-20</td>\n",
              "      <td>Papua New Guinea</td>\n",
              "      <td>Fiji</td>\n",
              "      <td>1</td>\n",
              "      <td>1</td>\n",
              "      <td>Pacific Games</td>\n",
              "      <td>Apia</td>\n",
              "      <td>Samoa</td>\n",
              "      <td>True</td>\n",
              "    </tr>\n",
              "  </tbody>\n",
              "</table>\n",
              "</div>"
            ],
            "text/plain": [
              "             date         home_team    away_team  ...       city  country neutral\n",
              "40836  2019-07-19           Senegal      Algeria  ...      Cairo    Egypt    True\n",
              "40837  2019-07-19        Tajikistan  North Korea  ...  Ahmedabad    India    True\n",
              "40838  2019-07-20  Papua New Guinea         Fiji  ...       Apia    Samoa    True\n",
              "\n",
              "[3 rows x 9 columns]"
            ]
          },
          "metadata": {
            "tags": []
          },
          "execution_count": 10
        }
      ]
    },
    {
      "cell_type": "markdown",
      "metadata": {
        "id": "0GB5XID5aP77"
      },
      "source": [
        "Data info"
      ]
    },
    {
      "cell_type": "code",
      "metadata": {
        "colab": {
          "base_uri": "https://localhost:8080/"
        },
        "id": "wJ746EilZeZW",
        "outputId": "b037d24c-73ac-4e32-a104-a626bdaa0a1b"
      },
      "source": [
        "# checking data info\n",
        "results.info()"
      ],
      "execution_count": 11,
      "outputs": [
        {
          "output_type": "stream",
          "text": [
            "<class 'pandas.core.frame.DataFrame'>\n",
            "RangeIndex: 40839 entries, 0 to 40838\n",
            "Data columns (total 9 columns):\n",
            " #   Column      Non-Null Count  Dtype \n",
            "---  ------      --------------  ----- \n",
            " 0   date        40839 non-null  object\n",
            " 1   home_team   40839 non-null  object\n",
            " 2   away_team   40839 non-null  object\n",
            " 3   home_score  40839 non-null  int64 \n",
            " 4   away_score  40839 non-null  int64 \n",
            " 5   tournament  40839 non-null  object\n",
            " 6   city        40839 non-null  object\n",
            " 7   country     40839 non-null  object\n",
            " 8   neutral     40839 non-null  bool  \n",
            "dtypes: bool(1), int64(2), object(6)\n",
            "memory usage: 2.5+ MB\n"
          ],
          "name": "stdout"
        }
      ]
    },
    {
      "cell_type": "markdown",
      "metadata": {
        "id": "YyVVKVMsiFZn"
      },
      "source": [
        "*Convert the date column to date format*"
      ]
    },
    {
      "cell_type": "code",
      "metadata": {
        "colab": {
          "base_uri": "https://localhost:8080/",
          "height": 136
        },
        "id": "3EUUcvdDhgIG",
        "outputId": "c7b9e59f-372c-4b12-cdc3-ad0b89a3309a"
      },
      "source": [
        "results['date'] = pd.to_datetime(results['date'])\n",
        "#introduce new column year month\n",
        "results['year_month'] = pd.to_datetime(results['date']).dt.to_period('M')\n",
        "result=results\n",
        "results.sample(3)"
      ],
      "execution_count": 12,
      "outputs": [
        {
          "output_type": "execute_result",
          "data": {
            "text/html": [
              "<div>\n",
              "<style scoped>\n",
              "    .dataframe tbody tr th:only-of-type {\n",
              "        vertical-align: middle;\n",
              "    }\n",
              "\n",
              "    .dataframe tbody tr th {\n",
              "        vertical-align: top;\n",
              "    }\n",
              "\n",
              "    .dataframe thead th {\n",
              "        text-align: right;\n",
              "    }\n",
              "</style>\n",
              "<table border=\"1\" class=\"dataframe\">\n",
              "  <thead>\n",
              "    <tr style=\"text-align: right;\">\n",
              "      <th></th>\n",
              "      <th>date</th>\n",
              "      <th>home_team</th>\n",
              "      <th>away_team</th>\n",
              "      <th>home_score</th>\n",
              "      <th>away_score</th>\n",
              "      <th>tournament</th>\n",
              "      <th>city</th>\n",
              "      <th>country</th>\n",
              "      <th>neutral</th>\n",
              "      <th>year_month</th>\n",
              "    </tr>\n",
              "  </thead>\n",
              "  <tbody>\n",
              "    <tr>\n",
              "      <th>34016</th>\n",
              "      <td>2012-05-31</td>\n",
              "      <td>France</td>\n",
              "      <td>Serbia</td>\n",
              "      <td>2</td>\n",
              "      <td>0</td>\n",
              "      <td>Friendly</td>\n",
              "      <td>Reims</td>\n",
              "      <td>France</td>\n",
              "      <td>False</td>\n",
              "      <td>2012-05</td>\n",
              "    </tr>\n",
              "    <tr>\n",
              "      <th>32725</th>\n",
              "      <td>2011-01-14</td>\n",
              "      <td>Panama</td>\n",
              "      <td>Belize</td>\n",
              "      <td>2</td>\n",
              "      <td>0</td>\n",
              "      <td>UNCAF Cup</td>\n",
              "      <td>Panama City</td>\n",
              "      <td>Panama</td>\n",
              "      <td>False</td>\n",
              "      <td>2011-01</td>\n",
              "    </tr>\n",
              "    <tr>\n",
              "      <th>8048</th>\n",
              "      <td>1972-01-12</td>\n",
              "      <td>Iraq</td>\n",
              "      <td>Algeria</td>\n",
              "      <td>3</td>\n",
              "      <td>1</td>\n",
              "      <td>Friendly</td>\n",
              "      <td>Baghdad</td>\n",
              "      <td>Iraq</td>\n",
              "      <td>False</td>\n",
              "      <td>1972-01</td>\n",
              "    </tr>\n",
              "  </tbody>\n",
              "</table>\n",
              "</div>"
            ],
            "text/plain": [
              "            date home_team away_team  ...  country  neutral year_month\n",
              "34016 2012-05-31    France    Serbia  ...   France    False    2012-05\n",
              "32725 2011-01-14    Panama    Belize  ...   Panama    False    2011-01\n",
              "8048  1972-01-12      Iraq   Algeria  ...     Iraq    False    1972-01\n",
              "\n",
              "[3 rows x 10 columns]"
            ]
          },
          "metadata": {
            "tags": []
          },
          "execution_count": 12
        }
      ]
    },
    {
      "cell_type": "markdown",
      "metadata": {
        "id": "T9n1HORng4Zs"
      },
      "source": [
        "*Extract confederation by Spliting the tournament column into two columns*"
      ]
    },
    {
      "cell_type": "code",
      "metadata": {
        "id": "9lkJdJn0iAy4"
      },
      "source": [
        "#Split the first part of tournament into column  “confederation” add it to the existing Dataframe\n",
        "#results['confederation_r'] = results.tournament.str.split(expand=False)\n",
        "#results['confederation_r'] = results.tournament.str.split(expand=True)\n",
        "#results.head(3)"
      ],
      "execution_count": null,
      "outputs": []
    },
    {
      "cell_type": "markdown",
      "metadata": {
        "id": "FsudmHwAgz8h"
      },
      "source": [
        "#DATA MERGING"
      ]
    },
    {
      "cell_type": "markdown",
      "metadata": {
        "id": "JZ4wqYLh9Tof"
      },
      "source": [
        "*Data in pespective of home team*"
      ]
    },
    {
      "cell_type": "code",
      "metadata": {
        "colab": {
          "base_uri": "https://localhost:8080/",
          "height": 194
        },
        "id": "QZMNXVglqb-H",
        "outputId": "e058e4cb-ff81-4feb-a11c-39e2c27389e8"
      },
      "source": [
        "home_team_scores= pd.merge(results,fifa_ranking, left_on= ['home_team', 'year_month'], \n",
        "                     right_on= ['country_full', 'year_month'], how = 'inner')\n",
        "\n",
        "# renaming the rank colum to home_rank\n",
        "home_team_scores.rename(columns={'rank' : 'home_team_rank'}, inplace=True)\n",
        "\n",
        "home_team = home_team_scores[['date','home_team', 'away_team', 'home_team_rank','tournament','home_score']]\n",
        "home_team\n",
        "\n",
        "home_team_scores.head(2) \n"
      ],
      "execution_count": 47,
      "outputs": [
        {
          "output_type": "execute_result",
          "data": {
            "text/html": [
              "<div>\n",
              "<style scoped>\n",
              "    .dataframe tbody tr th:only-of-type {\n",
              "        vertical-align: middle;\n",
              "    }\n",
              "\n",
              "    .dataframe tbody tr th {\n",
              "        vertical-align: top;\n",
              "    }\n",
              "\n",
              "    .dataframe thead th {\n",
              "        text-align: right;\n",
              "    }\n",
              "</style>\n",
              "<table border=\"1\" class=\"dataframe\">\n",
              "  <thead>\n",
              "    <tr style=\"text-align: right;\">\n",
              "      <th></th>\n",
              "      <th>date</th>\n",
              "      <th>home_team</th>\n",
              "      <th>away_team</th>\n",
              "      <th>home_score</th>\n",
              "      <th>away_score</th>\n",
              "      <th>tournament</th>\n",
              "      <th>city</th>\n",
              "      <th>country</th>\n",
              "      <th>neutral</th>\n",
              "      <th>year_month</th>\n",
              "      <th>home_team_rank</th>\n",
              "      <th>country_full</th>\n",
              "      <th>country_abrv</th>\n",
              "      <th>total_points</th>\n",
              "      <th>previous_points</th>\n",
              "      <th>rank_change</th>\n",
              "      <th>cur_year_avg</th>\n",
              "      <th>cur_year_avg_weighted</th>\n",
              "      <th>last_year_avg</th>\n",
              "      <th>last_year_avg_weighted</th>\n",
              "      <th>two_year_ago_avg</th>\n",
              "      <th>two_year_ago_weighted</th>\n",
              "      <th>three_year_ago_avg</th>\n",
              "      <th>three_year_ago_weighted</th>\n",
              "      <th>confederation</th>\n",
              "      <th>rank_date</th>\n",
              "    </tr>\n",
              "  </thead>\n",
              "  <tbody>\n",
              "    <tr>\n",
              "      <th>0</th>\n",
              "      <td>1993-08-01</td>\n",
              "      <td>Colombia</td>\n",
              "      <td>Paraguay</td>\n",
              "      <td>0</td>\n",
              "      <td>0</td>\n",
              "      <td>FIFA World Cup qualification</td>\n",
              "      <td>Barranquilla</td>\n",
              "      <td>Colombia</td>\n",
              "      <td>False</td>\n",
              "      <td>1993-08</td>\n",
              "      <td>19</td>\n",
              "      <td>Colombia</td>\n",
              "      <td>COL</td>\n",
              "      <td>0.0</td>\n",
              "      <td>36</td>\n",
              "      <td>16</td>\n",
              "      <td>0.0</td>\n",
              "      <td>0.0</td>\n",
              "      <td>0.0</td>\n",
              "      <td>0.0</td>\n",
              "      <td>0.0</td>\n",
              "      <td>0.0</td>\n",
              "      <td>0.0</td>\n",
              "      <td>0.0</td>\n",
              "      <td>CONMEBOL</td>\n",
              "      <td>1993-08-08</td>\n",
              "    </tr>\n",
              "    <tr>\n",
              "      <th>1</th>\n",
              "      <td>1993-08-15</td>\n",
              "      <td>Colombia</td>\n",
              "      <td>Argentina</td>\n",
              "      <td>2</td>\n",
              "      <td>1</td>\n",
              "      <td>FIFA World Cup qualification</td>\n",
              "      <td>Barranquilla</td>\n",
              "      <td>Colombia</td>\n",
              "      <td>False</td>\n",
              "      <td>1993-08</td>\n",
              "      <td>19</td>\n",
              "      <td>Colombia</td>\n",
              "      <td>COL</td>\n",
              "      <td>0.0</td>\n",
              "      <td>36</td>\n",
              "      <td>16</td>\n",
              "      <td>0.0</td>\n",
              "      <td>0.0</td>\n",
              "      <td>0.0</td>\n",
              "      <td>0.0</td>\n",
              "      <td>0.0</td>\n",
              "      <td>0.0</td>\n",
              "      <td>0.0</td>\n",
              "      <td>0.0</td>\n",
              "      <td>CONMEBOL</td>\n",
              "      <td>1993-08-08</td>\n",
              "    </tr>\n",
              "  </tbody>\n",
              "</table>\n",
              "</div>"
            ],
            "text/plain": [
              "        date home_team  ... confederation  rank_date\n",
              "0 1993-08-01  Colombia  ...      CONMEBOL 1993-08-08\n",
              "1 1993-08-15  Colombia  ...      CONMEBOL 1993-08-08\n",
              "\n",
              "[2 rows x 26 columns]"
            ]
          },
          "metadata": {
            "tags": []
          },
          "execution_count": 47
        }
      ]
    },
    {
      "cell_type": "markdown",
      "metadata": {
        "id": "R-iTUoKR9cUN"
      },
      "source": [
        "*Data in pespective of away team*"
      ]
    },
    {
      "cell_type": "code",
      "metadata": {
        "colab": {
          "base_uri": "https://localhost:8080/",
          "height": 106
        },
        "id": "GF4-pQkBwGY2",
        "outputId": "910235e8-0fd4-4e3e-86ef-e690d8d29c6b"
      },
      "source": [
        "away_team_scores= pd.merge(results, fifa_ranking, left_on= ['away_team', 'year_month'], \n",
        "                     right_on= ['country_full', 'year_month'], how = 'inner')\n",
        "\n",
        "# renaming the rank colum to home_rank\n",
        "away_team_scores.rename(columns={'rank' : 'away_team_rank'}, inplace=True)\n",
        "# extract unique colums for away_team\n",
        "\n",
        "away_team = away_team_scores[['date','home_team','away_team', 'away_team_rank','year_month','tournament','away_score']]\n",
        "away_team\n",
        "away_team.head(2) "
      ],
      "execution_count": 48,
      "outputs": [
        {
          "output_type": "execute_result",
          "data": {
            "text/html": [
              "<div>\n",
              "<style scoped>\n",
              "    .dataframe tbody tr th:only-of-type {\n",
              "        vertical-align: middle;\n",
              "    }\n",
              "\n",
              "    .dataframe tbody tr th {\n",
              "        vertical-align: top;\n",
              "    }\n",
              "\n",
              "    .dataframe thead th {\n",
              "        text-align: right;\n",
              "    }\n",
              "</style>\n",
              "<table border=\"1\" class=\"dataframe\">\n",
              "  <thead>\n",
              "    <tr style=\"text-align: right;\">\n",
              "      <th></th>\n",
              "      <th>date</th>\n",
              "      <th>home_team</th>\n",
              "      <th>away_team</th>\n",
              "      <th>away_team_rank</th>\n",
              "      <th>year_month</th>\n",
              "      <th>tournament</th>\n",
              "      <th>away_score</th>\n",
              "    </tr>\n",
              "  </thead>\n",
              "  <tbody>\n",
              "    <tr>\n",
              "      <th>0</th>\n",
              "      <td>1993-08-01</td>\n",
              "      <td>Colombia</td>\n",
              "      <td>Paraguay</td>\n",
              "      <td>67</td>\n",
              "      <td>1993-08</td>\n",
              "      <td>FIFA World Cup qualification</td>\n",
              "      <td>0</td>\n",
              "    </tr>\n",
              "    <tr>\n",
              "      <th>1</th>\n",
              "      <td>1993-08-29</td>\n",
              "      <td>Argentina</td>\n",
              "      <td>Paraguay</td>\n",
              "      <td>67</td>\n",
              "      <td>1993-08</td>\n",
              "      <td>FIFA World Cup qualification</td>\n",
              "      <td>0</td>\n",
              "    </tr>\n",
              "  </tbody>\n",
              "</table>\n",
              "</div>"
            ],
            "text/plain": [
              "        date  home_team  ...                    tournament  away_score\n",
              "0 1993-08-01   Colombia  ...  FIFA World Cup qualification           0\n",
              "1 1993-08-29  Argentina  ...  FIFA World Cup qualification           0\n",
              "\n",
              "[2 rows x 7 columns]"
            ]
          },
          "metadata": {
            "tags": []
          },
          "execution_count": 48
        }
      ]
    },
    {
      "cell_type": "markdown",
      "metadata": {
        "id": "5gaCs5AYqbeJ"
      },
      "source": [
        "#*Join the two data sets*"
      ]
    },
    {
      "cell_type": "code",
      "metadata": {
        "colab": {
          "base_uri": "https://localhost:8080/",
          "height": 194
        },
        "id": "nm673Kj21dr0",
        "outputId": "df73957f-7d13-4e7f-93cf-e7f7107cad51"
      },
      "source": [
        "fifa= pd.merge(home_team_scores,away_team, left_on= ['date','home_team','away_team', 'year_month'], \n",
        "                     right_on= ['date','home_team','away_team', 'year_month'], how = 'inner')\n",
        "fifa.head(2)"
      ],
      "execution_count": 15,
      "outputs": [
        {
          "output_type": "execute_result",
          "data": {
            "text/html": [
              "<div>\n",
              "<style scoped>\n",
              "    .dataframe tbody tr th:only-of-type {\n",
              "        vertical-align: middle;\n",
              "    }\n",
              "\n",
              "    .dataframe tbody tr th {\n",
              "        vertical-align: top;\n",
              "    }\n",
              "\n",
              "    .dataframe thead th {\n",
              "        text-align: right;\n",
              "    }\n",
              "</style>\n",
              "<table border=\"1\" class=\"dataframe\">\n",
              "  <thead>\n",
              "    <tr style=\"text-align: right;\">\n",
              "      <th></th>\n",
              "      <th>date</th>\n",
              "      <th>home_team</th>\n",
              "      <th>away_team</th>\n",
              "      <th>home_score</th>\n",
              "      <th>away_score</th>\n",
              "      <th>tournament</th>\n",
              "      <th>city</th>\n",
              "      <th>country</th>\n",
              "      <th>neutral</th>\n",
              "      <th>year_month</th>\n",
              "      <th>home_team_rank</th>\n",
              "      <th>country_full</th>\n",
              "      <th>country_abrv</th>\n",
              "      <th>total_points</th>\n",
              "      <th>previous_points</th>\n",
              "      <th>rank_change</th>\n",
              "      <th>cur_year_avg</th>\n",
              "      <th>cur_year_avg_weighted</th>\n",
              "      <th>last_year_avg</th>\n",
              "      <th>last_year_avg_weighted</th>\n",
              "      <th>two_year_ago_avg</th>\n",
              "      <th>two_year_ago_weighted</th>\n",
              "      <th>three_year_ago_avg</th>\n",
              "      <th>three_year_ago_weighted</th>\n",
              "      <th>confederation</th>\n",
              "      <th>rank_date</th>\n",
              "      <th>away_team_rank</th>\n",
              "    </tr>\n",
              "  </thead>\n",
              "  <tbody>\n",
              "    <tr>\n",
              "      <th>0</th>\n",
              "      <td>1993-08-01</td>\n",
              "      <td>Colombia</td>\n",
              "      <td>Paraguay</td>\n",
              "      <td>0</td>\n",
              "      <td>0</td>\n",
              "      <td>FIFA World Cup qualification</td>\n",
              "      <td>Barranquilla</td>\n",
              "      <td>Colombia</td>\n",
              "      <td>False</td>\n",
              "      <td>1993-08</td>\n",
              "      <td>19</td>\n",
              "      <td>Colombia</td>\n",
              "      <td>COL</td>\n",
              "      <td>0.0</td>\n",
              "      <td>36</td>\n",
              "      <td>16</td>\n",
              "      <td>0.0</td>\n",
              "      <td>0.0</td>\n",
              "      <td>0.0</td>\n",
              "      <td>0.0</td>\n",
              "      <td>0.0</td>\n",
              "      <td>0.0</td>\n",
              "      <td>0.0</td>\n",
              "      <td>0.0</td>\n",
              "      <td>CONMEBOL</td>\n",
              "      <td>1993-08-08</td>\n",
              "      <td>67</td>\n",
              "    </tr>\n",
              "    <tr>\n",
              "      <th>1</th>\n",
              "      <td>1993-08-15</td>\n",
              "      <td>Colombia</td>\n",
              "      <td>Argentina</td>\n",
              "      <td>2</td>\n",
              "      <td>1</td>\n",
              "      <td>FIFA World Cup qualification</td>\n",
              "      <td>Barranquilla</td>\n",
              "      <td>Colombia</td>\n",
              "      <td>False</td>\n",
              "      <td>1993-08</td>\n",
              "      <td>19</td>\n",
              "      <td>Colombia</td>\n",
              "      <td>COL</td>\n",
              "      <td>0.0</td>\n",
              "      <td>36</td>\n",
              "      <td>16</td>\n",
              "      <td>0.0</td>\n",
              "      <td>0.0</td>\n",
              "      <td>0.0</td>\n",
              "      <td>0.0</td>\n",
              "      <td>0.0</td>\n",
              "      <td>0.0</td>\n",
              "      <td>0.0</td>\n",
              "      <td>0.0</td>\n",
              "      <td>CONMEBOL</td>\n",
              "      <td>1993-08-08</td>\n",
              "      <td>5</td>\n",
              "    </tr>\n",
              "  </tbody>\n",
              "</table>\n",
              "</div>"
            ],
            "text/plain": [
              "        date home_team  away_team  ...  confederation  rank_date away_team_rank\n",
              "0 1993-08-01  Colombia   Paraguay  ...       CONMEBOL 1993-08-08             67\n",
              "1 1993-08-15  Colombia  Argentina  ...       CONMEBOL 1993-08-08              5\n",
              "\n",
              "[2 rows x 27 columns]"
            ]
          },
          "metadata": {
            "tags": []
          },
          "execution_count": 15
        }
      ]
    },
    {
      "cell_type": "code",
      "metadata": {
        "id": "aPNSpMmJ2tKH",
        "colab": {
          "base_uri": "https://localhost:8080/"
        },
        "outputId": "b72a1a88-c845-44e3-d5d3-87ca22673340"
      },
      "source": [
        "fifa.info()"
      ],
      "execution_count": 16,
      "outputs": [
        {
          "output_type": "stream",
          "text": [
            "<class 'pandas.core.frame.DataFrame'>\n",
            "Int64Index: 16957 entries, 0 to 16956\n",
            "Data columns (total 27 columns):\n",
            " #   Column                   Non-Null Count  Dtype         \n",
            "---  ------                   --------------  -----         \n",
            " 0   date                     16957 non-null  datetime64[ns]\n",
            " 1   home_team                16957 non-null  object        \n",
            " 2   away_team                16957 non-null  object        \n",
            " 3   home_score               16957 non-null  int64         \n",
            " 4   away_score               16957 non-null  int64         \n",
            " 5   tournament               16957 non-null  object        \n",
            " 6   city                     16957 non-null  object        \n",
            " 7   country                  16957 non-null  object        \n",
            " 8   neutral                  16957 non-null  bool          \n",
            " 9   year_month               16957 non-null  period[M]     \n",
            " 10  home_team_rank           16957 non-null  int64         \n",
            " 11  country_full             16957 non-null  object        \n",
            " 12  country_abrv             16957 non-null  object        \n",
            " 13  total_points             16957 non-null  float64       \n",
            " 14  previous_points          16957 non-null  int64         \n",
            " 15  rank_change              16957 non-null  int64         \n",
            " 16  cur_year_avg             16957 non-null  float64       \n",
            " 17  cur_year_avg_weighted    16957 non-null  float64       \n",
            " 18  last_year_avg            16957 non-null  float64       \n",
            " 19  last_year_avg_weighted   16957 non-null  float64       \n",
            " 20  two_year_ago_avg         16957 non-null  float64       \n",
            " 21  two_year_ago_weighted    16957 non-null  float64       \n",
            " 22  three_year_ago_avg       16957 non-null  float64       \n",
            " 23  three_year_ago_weighted  16957 non-null  float64       \n",
            " 24  confederation            16957 non-null  object        \n",
            " 25  rank_date                16957 non-null  datetime64[ns]\n",
            " 26  away_team_rank           16957 non-null  int64         \n",
            "dtypes: bool(1), datetime64[ns](2), float64(9), int64(6), object(8), period[M](1)\n",
            "memory usage: 3.5+ MB\n"
          ],
          "name": "stdout"
        }
      ]
    },
    {
      "cell_type": "code",
      "metadata": {
        "id": "fNlmw612g76z"
      },
      "source": [
        "#fifa = pd.merge(results, fifa_ranking, left_on=['year_month','home_team','confederation_r'], right_on=['year_month','country_full','confederation'],how=\"inner\")\n",
        "#fifa.head(3)"
      ],
      "execution_count": 455,
      "outputs": []
    },
    {
      "cell_type": "markdown",
      "metadata": {
        "id": "Lo1HYDflPAb5"
      },
      "source": [
        "*Drop Uneccesary columns*"
      ]
    },
    {
      "cell_type": "code",
      "metadata": {
        "id": "KB-WqvESO-lD"
      },
      "source": [
        "fifa = fifa.drop(columns=['country_abrv','tournament','city','country','year_month','country_full','total_points','confederation','rank_date'])"
      ],
      "execution_count": 17,
      "outputs": []
    },
    {
      "cell_type": "markdown",
      "metadata": {
        "id": "gxJw6IJDwBUB"
      },
      "source": [
        "#Determine from home team’s perspective if the game is a Win, Lose or Draw (W, L, D)"
      ]
    },
    {
      "cell_type": "code",
      "metadata": {
        "colab": {
          "base_uri": "https://localhost:8080/",
          "height": 206
        },
        "id": "pIDiLYcSwO62",
        "outputId": "4402e91e-7af5-4e82-cf78-e5cf36a0fa71"
      },
      "source": [
        "# Creat condition on how to grade the teams\n",
        "\n",
        "grading_codition = [fifa['home_score'] > fifa['away_score'],\n",
        "                    fifa['home_score'] < fifa['away_score'],\n",
        "                    fifa['home_score'] == fifa['away_score']]\n",
        "\n",
        "# Determination of each condition\n",
        "\n",
        "grade = ['W', 'L', 'D']\n",
        "\n",
        "# creating a new columnn status column using the conditions and values above\n",
        "\n",
        "fifa['Out_come'] = np.select(grading_codition, grade)\n",
        "\n",
        "fifa.head(3)"
      ],
      "execution_count": 18,
      "outputs": [
        {
          "output_type": "execute_result",
          "data": {
            "text/html": [
              "<div>\n",
              "<style scoped>\n",
              "    .dataframe tbody tr th:only-of-type {\n",
              "        vertical-align: middle;\n",
              "    }\n",
              "\n",
              "    .dataframe tbody tr th {\n",
              "        vertical-align: top;\n",
              "    }\n",
              "\n",
              "    .dataframe thead th {\n",
              "        text-align: right;\n",
              "    }\n",
              "</style>\n",
              "<table border=\"1\" class=\"dataframe\">\n",
              "  <thead>\n",
              "    <tr style=\"text-align: right;\">\n",
              "      <th></th>\n",
              "      <th>date</th>\n",
              "      <th>home_team</th>\n",
              "      <th>away_team</th>\n",
              "      <th>home_score</th>\n",
              "      <th>away_score</th>\n",
              "      <th>neutral</th>\n",
              "      <th>home_team_rank</th>\n",
              "      <th>previous_points</th>\n",
              "      <th>rank_change</th>\n",
              "      <th>cur_year_avg</th>\n",
              "      <th>cur_year_avg_weighted</th>\n",
              "      <th>last_year_avg</th>\n",
              "      <th>last_year_avg_weighted</th>\n",
              "      <th>two_year_ago_avg</th>\n",
              "      <th>two_year_ago_weighted</th>\n",
              "      <th>three_year_ago_avg</th>\n",
              "      <th>three_year_ago_weighted</th>\n",
              "      <th>away_team_rank</th>\n",
              "      <th>Out_come</th>\n",
              "    </tr>\n",
              "  </thead>\n",
              "  <tbody>\n",
              "    <tr>\n",
              "      <th>0</th>\n",
              "      <td>1993-08-01</td>\n",
              "      <td>Colombia</td>\n",
              "      <td>Paraguay</td>\n",
              "      <td>0</td>\n",
              "      <td>0</td>\n",
              "      <td>False</td>\n",
              "      <td>19</td>\n",
              "      <td>36</td>\n",
              "      <td>16</td>\n",
              "      <td>0.0</td>\n",
              "      <td>0.0</td>\n",
              "      <td>0.0</td>\n",
              "      <td>0.0</td>\n",
              "      <td>0.0</td>\n",
              "      <td>0.0</td>\n",
              "      <td>0.0</td>\n",
              "      <td>0.0</td>\n",
              "      <td>67</td>\n",
              "      <td>D</td>\n",
              "    </tr>\n",
              "    <tr>\n",
              "      <th>1</th>\n",
              "      <td>1993-08-15</td>\n",
              "      <td>Colombia</td>\n",
              "      <td>Argentina</td>\n",
              "      <td>2</td>\n",
              "      <td>1</td>\n",
              "      <td>False</td>\n",
              "      <td>19</td>\n",
              "      <td>36</td>\n",
              "      <td>16</td>\n",
              "      <td>0.0</td>\n",
              "      <td>0.0</td>\n",
              "      <td>0.0</td>\n",
              "      <td>0.0</td>\n",
              "      <td>0.0</td>\n",
              "      <td>0.0</td>\n",
              "      <td>0.0</td>\n",
              "      <td>0.0</td>\n",
              "      <td>5</td>\n",
              "      <td>W</td>\n",
              "    </tr>\n",
              "    <tr>\n",
              "      <th>2</th>\n",
              "      <td>1993-08-29</td>\n",
              "      <td>Colombia</td>\n",
              "      <td>Peru</td>\n",
              "      <td>4</td>\n",
              "      <td>0</td>\n",
              "      <td>False</td>\n",
              "      <td>19</td>\n",
              "      <td>36</td>\n",
              "      <td>16</td>\n",
              "      <td>0.0</td>\n",
              "      <td>0.0</td>\n",
              "      <td>0.0</td>\n",
              "      <td>0.0</td>\n",
              "      <td>0.0</td>\n",
              "      <td>0.0</td>\n",
              "      <td>0.0</td>\n",
              "      <td>0.0</td>\n",
              "      <td>70</td>\n",
              "      <td>W</td>\n",
              "    </tr>\n",
              "  </tbody>\n",
              "</table>\n",
              "</div>"
            ],
            "text/plain": [
              "        date home_team  ... away_team_rank  Out_come\n",
              "0 1993-08-01  Colombia  ...             67         D\n",
              "1 1993-08-15  Colombia  ...              5         W\n",
              "2 1993-08-29  Colombia  ...             70         W\n",
              "\n",
              "[3 rows x 19 columns]"
            ]
          },
          "metadata": {
            "tags": []
          },
          "execution_count": 18
        }
      ]
    },
    {
      "cell_type": "markdown",
      "metadata": {
        "id": "fZhtor3Gj_gk"
      },
      "source": [
        "#Exploratory Data Analysis\n"
      ]
    },
    {
      "cell_type": "code",
      "metadata": {
        "colab": {
          "base_uri": "https://localhost:8080/"
        },
        "id": "rg_BPXr6oiEb",
        "outputId": "f7443b5d-f62c-4bf6-ee10-4b30427db997"
      },
      "source": [
        "# standardizing the column names uniform.\n",
        "\n",
        "fifa.columns = fifa.columns.str.replace('/', '').str.strip().str.lower()  # Dealing with the inconsistencies\n",
        "\n",
        "fifa.columns"
      ],
      "execution_count": 19,
      "outputs": [
        {
          "output_type": "execute_result",
          "data": {
            "text/plain": [
              "Index(['date', 'home_team', 'away_team', 'home_score', 'away_score', 'neutral',\n",
              "       'home_team_rank', 'previous_points', 'rank_change', 'cur_year_avg',\n",
              "       'cur_year_avg_weighted', 'last_year_avg', 'last_year_avg_weighted',\n",
              "       'two_year_ago_avg', 'two_year_ago_weighted', 'three_year_ago_avg',\n",
              "       'three_year_ago_weighted', 'away_team_rank', 'out_come'],\n",
              "      dtype='object')"
            ]
          },
          "metadata": {
            "tags": []
          },
          "execution_count": 19
        }
      ]
    },
    {
      "cell_type": "markdown",
      "metadata": {
        "id": "frP7EEg1m4Sw"
      },
      "source": [
        "*checking for duplicate*"
      ]
    },
    {
      "cell_type": "code",
      "metadata": {
        "colab": {
          "base_uri": "https://localhost:8080/"
        },
        "id": "vK6VMgzLmXo7",
        "outputId": "e7a8c0e4-c5b7-40b1-80aa-e4adc80bd5e6"
      },
      "source": [
        "fifa.duplicated().any()"
      ],
      "execution_count": 20,
      "outputs": [
        {
          "output_type": "execute_result",
          "data": {
            "text/plain": [
              "True"
            ]
          },
          "metadata": {
            "tags": []
          },
          "execution_count": 20
        }
      ]
    },
    {
      "cell_type": "markdown",
      "metadata": {
        "id": "huYfWe8RpZra"
      },
      "source": [
        "*checking the shape of the new data*"
      ]
    },
    {
      "cell_type": "code",
      "metadata": {
        "colab": {
          "base_uri": "https://localhost:8080/"
        },
        "id": "MJD9OE8npXr3",
        "outputId": "7e0ba792-d164-4474-d95e-62533216bea5"
      },
      "source": [
        "fifa.shape"
      ],
      "execution_count": 21,
      "outputs": [
        {
          "output_type": "execute_result",
          "data": {
            "text/plain": [
              "(16957, 19)"
            ]
          },
          "metadata": {
            "tags": []
          },
          "execution_count": 21
        }
      ]
    },
    {
      "cell_type": "markdown",
      "metadata": {
        "id": "_NXuAmGLnOzv"
      },
      "source": [
        "*checking the uniques*"
      ]
    },
    {
      "cell_type": "code",
      "metadata": {
        "colab": {
          "base_uri": "https://localhost:8080/"
        },
        "id": "DJngK-j5nPTV",
        "outputId": "54b7e53d-03d5-43b1-9964-e98d1ad21c87"
      },
      "source": [
        "fifa.nunique()"
      ],
      "execution_count": 22,
      "outputs": [
        {
          "output_type": "execute_result",
          "data": {
            "text/plain": [
              "date                       4469\n",
              "home_team                   193\n",
              "away_team                   193\n",
              "home_score                   21\n",
              "away_score                   14\n",
              "neutral                       2\n",
              "home_team_rank              209\n",
              "previous_points            1378\n",
              "rank_change                  96\n",
              "cur_year_avg               3538\n",
              "cur_year_avg_weighted      3538\n",
              "last_year_avg              3345\n",
              "last_year_avg_weighted     3250\n",
              "two_year_ago_avg           3309\n",
              "two_year_ago_weighted      3113\n",
              "three_year_ago_avg         3368\n",
              "three_year_ago_weighted    2974\n",
              "away_team_rank              209\n",
              "out_come                      3\n",
              "dtype: int64"
            ]
          },
          "metadata": {
            "tags": []
          },
          "execution_count": 22
        }
      ]
    },
    {
      "cell_type": "markdown",
      "metadata": {
        "id": "gn8u31U1n-qq"
      },
      "source": [
        "#Univariate analysis"
      ]
    },
    {
      "cell_type": "markdown",
      "metadata": {
        "id": "x9NV09s-my0Y"
      },
      "source": [
        "*Check the percentage of wins,loss and draw*"
      ]
    },
    {
      "cell_type": "code",
      "metadata": {
        "colab": {
          "base_uri": "https://localhost:8080/",
          "height": 377
        },
        "id": "NZUZqIKZkiP2",
        "outputId": "8bc4e966-b692-4151-f7ec-0b840487eeb4"
      },
      "source": [
        "import matplotlib.pyplot as plt\n",
        "plt.figure(figsize=(5,6))\n",
        "plt.pie(fifa['out_come'].value_counts(),labels=['Win','Loss','Draw'], autopct='%1.1f%%',shadow=True, startangle=0)\n",
        "plt.axis('equal')\n",
        "plt.title('Percentage Outcome', size=18)\n",
        "plt.show()"
      ],
      "execution_count": 23,
      "outputs": [
        {
          "output_type": "display_data",
          "data": {
            "image/png": "[encoded data removed]",
            "text/plain": [
              "<Figure size 360x432 with 1 Axes>"
            ]
          },
          "metadata": {
            "tags": []
          }
        }
      ]
    },
    {
      "cell_type": "markdown",
      "metadata": {
        "id": "yxwLerqjWgb4"
      },
      "source": [
        "Home team"
      ]
    },
    {
      "cell_type": "code",
      "metadata": {
        "colab": {
          "base_uri": "https://localhost:8080/"
        },
        "id": "ueGEqzSaWUx8",
        "outputId": "87ed606e-0a8c-4944-b7cd-54aae1234671"
      },
      "source": [
        "fifa['home_team'].value_counts()"
      ],
      "execution_count": 24,
      "outputs": [
        {
          "output_type": "execute_result",
          "data": {
            "text/plain": [
              "Mexico                      253\n",
              "Saudi Arabia                212\n",
              "Japan                       207\n",
              "Oman                        196\n",
              "Qatar                       185\n",
              "                           ... \n",
              "Kosovo                        8\n",
              "Montserrat                    8\n",
              "Gibraltar                     6\n",
              "Anguilla                      6\n",
              "Turks and Caicos Islands      3\n",
              "Name: home_team, Length: 193, dtype: int64"
            ]
          },
          "metadata": {
            "tags": []
          },
          "execution_count": 24
        }
      ]
    },
    {
      "cell_type": "markdown",
      "metadata": {
        "id": "HqVJCMi9WnLo"
      },
      "source": [
        "away_team "
      ]
    },
    {
      "cell_type": "code",
      "metadata": {
        "colab": {
          "base_uri": "https://localhost:8080/"
        },
        "id": "j_JoCJJwWnvX",
        "outputId": "1c9acfd6-9e4d-4ede-e340-aaea7e560a74"
      },
      "source": [
        "fifa['away_team'].value_counts()"
      ],
      "execution_count": 25,
      "outputs": [
        {
          "output_type": "execute_result",
          "data": {
            "text/plain": [
              "Zambia                      191\n",
              "Sweden                      163\n",
              "Brazil                      162\n",
              "Paraguay                    161\n",
              "Finland                     161\n",
              "                           ... \n",
              "Bahamas                      13\n",
              "Turks and Caicos Islands      8\n",
              "Kosovo                        6\n",
              "Gibraltar                     6\n",
              "Montserrat                    6\n",
              "Name: away_team, Length: 193, dtype: int64"
            ]
          },
          "metadata": {
            "tags": []
          },
          "execution_count": 25
        }
      ]
    },
    {
      "cell_type": "markdown",
      "metadata": {
        "id": "azXAGJkjaIK7"
      },
      "source": [
        "*checcking the numerical and categorical variables*"
      ]
    },
    {
      "cell_type": "code",
      "metadata": {
        "colab": {
          "base_uri": "https://localhost:8080/"
        },
        "id": "86sPF9vLaEcF",
        "outputId": "6de2c816-3264-40cc-a996-3127f873d1d2"
      },
      "source": [
        "numerical = fifa._get_numeric_data().columns\n",
        "categorical = set(fifa.columns) - set(numerical)\n",
        "numerical "
      ],
      "execution_count": 26,
      "outputs": [
        {
          "output_type": "execute_result",
          "data": {
            "text/plain": [
              "Index(['home_score', 'away_score', 'neutral', 'home_team_rank',\n",
              "       'previous_points', 'rank_change', 'cur_year_avg',\n",
              "       'cur_year_avg_weighted', 'last_year_avg', 'last_year_avg_weighted',\n",
              "       'two_year_ago_avg', 'two_year_ago_weighted', 'three_year_ago_avg',\n",
              "       'three_year_ago_weighted', 'away_team_rank'],\n",
              "      dtype='object')"
            ]
          },
          "metadata": {
            "tags": []
          },
          "execution_count": 26
        }
      ]
    },
    {
      "cell_type": "markdown",
      "metadata": {
        "id": "LZn5jOcwZGHN"
      },
      "source": [
        "*Checking outliers in numerical columns*"
      ]
    },
    {
      "cell_type": "code",
      "metadata": {
        "colab": {
          "base_uri": "https://localhost:8080/",
          "height": 979
        },
        "id": "kkkG_ejcZKLk",
        "outputId": "e575d4b4-e4d2-4ecc-f8a4-c0d42b558367"
      },
      "source": [
        "num_of_rows = 4\n",
        "num_of_cols = 4\n",
        "fig, ax = plt.subplots(num_of_rows, num_of_cols, figsize=(15,15))\n",
        "print(numerical)\n",
        "i=0;j=0;k=0;\n",
        "while i<num_of_rows:\n",
        "    while j<num_of_cols:\n",
        "        sns.boxplot(fifa[numerical[k-1]], ax=ax[i, j])\n",
        "        k+=1;j+=1\n",
        "    j=0;i+=1\n",
        "plt.show()"
      ],
      "execution_count": 27,
      "outputs": [
        {
          "output_type": "stream",
          "text": [
            "Index(['home_score', 'away_score', 'neutral', 'home_team_rank',\n",
            "       'previous_points', 'rank_change', 'cur_year_avg',\n",
            "       'cur_year_avg_weighted', 'last_year_avg', 'last_year_avg_weighted',\n",
            "       'two_year_ago_avg', 'two_year_ago_weighted', 'three_year_ago_avg',\n",
            "       'three_year_ago_weighted', 'away_team_rank'],\n",
            "      dtype='object')\n"
          ],
          "name": "stdout"
        },
        {
          "output_type": "display_data",
          "data": {
            "image/png": "[encoded data removed]",
            "text/plain": [
              "<Figure size 1080x1080 with 16 Axes>"
            ]
          },
          "metadata": {
            "tags": [],
            "needs_background": "light"
          }
        }
      ]
    },
    {
      "cell_type": "markdown",
      "metadata": {
        "id": "z1RNP4pXb3Nf"
      },
      "source": [
        "Removing outliers in the numerical columns"
      ]
    },
    {
      "cell_type": "code",
      "metadata": {
        "id": "v_BAhsYxb3qW"
      },
      "source": [
        "lsUpper = []\n",
        "lsLower = []\n",
        "def removeOutliers(numerical):\n",
        "    for i in range(len(numerical)):\n",
        "        q1 = fifa[numerical[i]].quantile(0.25)\n",
        "        q3 = fifa[numerical[i]].quantile(0.75)\n",
        "        IQR = q3-q1\n",
        "        minimum = q1 - 1.5 * IQR\n",
        "        maximum = q3 + 1.5 * IQR\n",
        "        fifa.loc[(fifa[numerical[i]] <= minimum), numerical[i]] = minimum\n",
        "        fifa.loc[(fifa[numerical[i]] >= maximum), numerical[i]] = maximum  \n",
        "removeOutliers(numerical)"
      ],
      "execution_count": 28,
      "outputs": []
    },
    {
      "cell_type": "code",
      "metadata": {
        "colab": {
          "base_uri": "https://localhost:8080/",
          "height": 979
        },
        "id": "3J4JLk2lchBb",
        "outputId": "ccbe6759-3402-4539-add8-472af8af48dc"
      },
      "source": [
        "num_of_rows = 4\n",
        "num_of_cols = 4\n",
        "fig, ax = plt.subplots(num_of_rows, num_of_cols, figsize=(15,15))\n",
        "print(numerical)\n",
        "i=0;j=0;k=0;\n",
        "while i<num_of_rows:\n",
        "    while j<num_of_cols:\n",
        "        sns.boxplot(fifa[numerical[k-1]], ax=ax[i, j])\n",
        "        k+=1;j+=1\n",
        "    j=0;i+=1\n",
        "plt.show()"
      ],
      "execution_count": 29,
      "outputs": [
        {
          "output_type": "stream",
          "text": [
            "Index(['home_score', 'away_score', 'neutral', 'home_team_rank',\n",
            "       'previous_points', 'rank_change', 'cur_year_avg',\n",
            "       'cur_year_avg_weighted', 'last_year_avg', 'last_year_avg_weighted',\n",
            "       'two_year_ago_avg', 'two_year_ago_weighted', 'three_year_ago_avg',\n",
            "       'three_year_ago_weighted', 'away_team_rank'],\n",
            "      dtype='object')\n"
          ],
          "name": "stdout"
        },
        {
          "output_type": "display_data",
          "data": {
            "image/png": "[encoded data removed]",
            "text/plain": [
              "<Figure size 1080x1080 with 16 Axes>"
            ]
          },
          "metadata": {
            "tags": [],
            "needs_background": "light"
          }
        }
      ]
    },
    {
      "cell_type": "markdown",
      "metadata": {
        "id": "TmylNxQhc_XP"
      },
      "source": [
        "Distribution of the numerical columns"
      ]
    },
    {
      "cell_type": "code",
      "metadata": {
        "colab": {
          "base_uri": "https://localhost:8080/",
          "height": 592
        },
        "id": "0Q-xRvGjc998",
        "outputId": "85c05d07-2e9d-4e78-a6a8-c9d26162897b"
      },
      "source": [
        "def plotHist():\n",
        "    fig, ax =plt.subplots(5,3, figsize=(10,10))\n",
        "    i=0;j=0;k=0\n",
        "    while i<=4:\n",
        "        while j<=2:\n",
        "            sns.distplot(fifa[numerical[k]], ax=ax[i, j])\n",
        "            j+=1;k+=1\n",
        "        j=0;i+=1;\n",
        "        plt.show()\n",
        "plotHist()"
      ],
      "execution_count": 30,
      "outputs": [
        {
          "output_type": "display_data",
          "data": {
            "image/png": "[encoded data removed]",
            "text/plain": [
              "<Figure size 720x720 with 15 Axes>"
            ]
          },
          "metadata": {
            "tags": [],
            "needs_background": "light"
          }
        }
      ]
    },
    {
      "cell_type": "markdown",
      "metadata": {
        "id": "It7_r5E_dxg2"
      },
      "source": [
        "#Bivariate Analysis\n",
        "\n",
        "*Heat map showing correlation*"
      ]
    },
    {
      "cell_type": "code",
      "metadata": {
        "colab": {
          "base_uri": "https://localhost:8080/",
          "height": 605
        },
        "id": "_XI-tjogdzFe",
        "outputId": "95320b1a-7482-4a1f-8b05-951f64ea0202"
      },
      "source": [
        "# Heat map showing correlation\n",
        "\n",
        "plt.figure(figsize=(12, 8))\n",
        "\n",
        "dfcorr = fifa.corr()\n",
        "sns.heatmap(dfcorr, \n",
        "            xticklabels = dfcorr.columns.values,\n",
        "            yticklabels = dfcorr.columns.values,\n",
        "            annot = True);"
      ],
      "execution_count": 31,
      "outputs": [
        {
          "output_type": "display_data",
          "data": {
            "image/png": "[encoded data removed]",
            "text/plain": [
              "<Figure size 864x576 with 2 Axes>"
            ]
          },
          "metadata": {
            "tags": [],
            "needs_background": "light"
          }
        }
      ]
    },
    {
      "cell_type": "markdown",
      "metadata": {
        "id": "HT5GqbyVeT1M"
      },
      "source": [
        "#FEATURE ENGINEERING\n",
        "\n",
        "#Principal Component Analysis (PCA)\n"
      ]
    },
    {
      "cell_type": "markdown",
      "metadata": {
        "id": "VDhyvIgQgskU"
      },
      "source": [
        "*Encoding Categorical Features*"
      ]
    },
    {
      "cell_type": "code",
      "metadata": {
        "colab": {
          "base_uri": "https://localhost:8080/",
          "height": 343
        },
        "id": "qSkvhdvpe3tr",
        "outputId": "bcdf271f-f4af-4566-9ced-a9da59248635"
      },
      "source": [
        "# Categorical boolean mask\n",
        "categorical_feature_mask = fifa.dtypes==object\n",
        "# filter categorical columns using mask and turn it into a list\n",
        "categorical_cols = fifa.columns[categorical_feature_mask].tolist()\n",
        "# import labelencoder\n",
        "from sklearn.preprocessing import LabelEncoder\n",
        "# instantiate labelencoder object\n",
        "le = LabelEncoder()\n",
        "\n",
        "# apply le on categorical feature columns\n",
        "fifa[categorical_cols] = fifa[categorical_cols].apply(lambda col: le.fit_transform(col))\n",
        "fifa[categorical_cols].head(10)\n"
      ],
      "execution_count": 32,
      "outputs": [
        {
          "output_type": "execute_result",
          "data": {
            "text/html": [
              "<div>\n",
              "<style scoped>\n",
              "    .dataframe tbody tr th:only-of-type {\n",
              "        vertical-align: middle;\n",
              "    }\n",
              "\n",
              "    .dataframe tbody tr th {\n",
              "        vertical-align: top;\n",
              "    }\n",
              "\n",
              "    .dataframe thead th {\n",
              "        text-align: right;\n",
              "    }\n",
              "</style>\n",
              "<table border=\"1\" class=\"dataframe\">\n",
              "  <thead>\n",
              "    <tr style=\"text-align: right;\">\n",
              "      <th></th>\n",
              "      <th>home_team</th>\n",
              "      <th>away_team</th>\n",
              "      <th>neutral</th>\n",
              "      <th>out_come</th>\n",
              "    </tr>\n",
              "  </thead>\n",
              "  <tbody>\n",
              "    <tr>\n",
              "      <th>0</th>\n",
              "      <td>41</td>\n",
              "      <td>137</td>\n",
              "      <td>0</td>\n",
              "      <td>0</td>\n",
              "    </tr>\n",
              "    <tr>\n",
              "      <th>1</th>\n",
              "      <td>41</td>\n",
              "      <td>8</td>\n",
              "      <td>0</td>\n",
              "      <td>2</td>\n",
              "    </tr>\n",
              "    <tr>\n",
              "      <th>2</th>\n",
              "      <td>41</td>\n",
              "      <td>138</td>\n",
              "      <td>0</td>\n",
              "      <td>2</td>\n",
              "    </tr>\n",
              "    <tr>\n",
              "      <th>3</th>\n",
              "      <td>138</td>\n",
              "      <td>8</td>\n",
              "      <td>0</td>\n",
              "      <td>1</td>\n",
              "    </tr>\n",
              "    <tr>\n",
              "      <th>4</th>\n",
              "      <td>138</td>\n",
              "      <td>41</td>\n",
              "      <td>0</td>\n",
              "      <td>1</td>\n",
              "    </tr>\n",
              "    <tr>\n",
              "      <th>5</th>\n",
              "      <td>184</td>\n",
              "      <td>55</td>\n",
              "      <td>0</td>\n",
              "      <td>0</td>\n",
              "    </tr>\n",
              "    <tr>\n",
              "      <th>6</th>\n",
              "      <td>184</td>\n",
              "      <td>27</td>\n",
              "      <td>0</td>\n",
              "      <td>0</td>\n",
              "    </tr>\n",
              "    <tr>\n",
              "      <th>7</th>\n",
              "      <td>184</td>\n",
              "      <td>187</td>\n",
              "      <td>0</td>\n",
              "      <td>2</td>\n",
              "    </tr>\n",
              "    <tr>\n",
              "      <th>8</th>\n",
              "      <td>187</td>\n",
              "      <td>27</td>\n",
              "      <td>0</td>\n",
              "      <td>1</td>\n",
              "    </tr>\n",
              "    <tr>\n",
              "      <th>9</th>\n",
              "      <td>152</td>\n",
              "      <td>191</td>\n",
              "      <td>0</td>\n",
              "      <td>0</td>\n",
              "    </tr>\n",
              "  </tbody>\n",
              "</table>\n",
              "</div>"
            ],
            "text/plain": [
              "   home_team  away_team  neutral  out_come\n",
              "0         41        137        0         0\n",
              "1         41          8        0         2\n",
              "2         41        138        0         2\n",
              "3        138          8        0         1\n",
              "4        138         41        0         1\n",
              "5        184         55        0         0\n",
              "6        184         27        0         0\n",
              "7        184        187        0         2\n",
              "8        187         27        0         1\n",
              "9        152        191        0         0"
            ]
          },
          "metadata": {
            "tags": []
          },
          "execution_count": 32
        }
      ]
    },
    {
      "cell_type": "markdown",
      "metadata": {
        "id": "VDjOpCbpi0dS"
      },
      "source": [
        "Distributing the dataset into two components X and Y"
      ]
    },
    {
      "cell_type": "code",
      "metadata": {
        "id": "iXEOd9x1j3_b"
      },
      "source": [
        "#Drop unneccessary columns\n",
        "fifa=fifa.drop(['date'],axis=1)\n",
        "#Set the values for x and y\n",
        "\n",
        "x = fifa.drop('out_come',1)\n",
        "y = fifa['out_come']\n",
        "\n"
      ],
      "execution_count": 33,
      "outputs": []
    },
    {
      "cell_type": "markdown",
      "metadata": {
        "id": "s6EZID5Bk3_I"
      },
      "source": [
        "Splitting the dataset into the Training set and Test set"
      ]
    },
    {
      "cell_type": "code",
      "metadata": {
        "id": "Xn85x_vJk9E6"
      },
      "source": [
        "# Splitting the X and Y into Training set and Testing set\n",
        "\n",
        "from sklearn.model_selection import train_test_split\n",
        "  \n",
        "x_train, x_test, y_train, y_test = train_test_split(x, y, test_size = 0.2, random_state = 0)"
      ],
      "execution_count": 34,
      "outputs": []
    },
    {
      "cell_type": "markdown",
      "metadata": {
        "id": "AMLZ_zKTlFhd"
      },
      "source": [
        "Feature Scaling by fitting the data to a Standard scale."
      ]
    },
    {
      "cell_type": "code",
      "metadata": {
        "id": "tQv-MVLhlZg2"
      },
      "source": [
        "from sklearn.preprocessing import StandardScaler\n",
        "sc = StandardScaler()\n",
        "\n",
        "x_train = sc.fit_transform(x_train)\n",
        "x_test = sc.transform(x_test)"
      ],
      "execution_count": 35,
      "outputs": []
    },
    {
      "cell_type": "markdown",
      "metadata": {
        "id": "7URwxmEeoDCA"
      },
      "source": [
        "Applying PCA function"
      ]
    },
    {
      "cell_type": "code",
      "metadata": {
        "id": "nvShQJuHlxkg"
      },
      "source": [
        "# Applying PCA function on training and testing set of X component\n",
        "from sklearn.decomposition import PCA\n",
        "  \n",
        "pca_rain = PCA(n_components =10)\n",
        "  \n",
        "x_train = pca_rain.fit_transform(x_train)\n",
        "x_test = pca_rain.transform(x_test)"
      ],
      "execution_count": 36,
      "outputs": []
    },
    {
      "cell_type": "markdown",
      "metadata": {
        "id": "mAKajVQiohI1"
      },
      "source": [
        "Explained_variance"
      ]
    },
    {
      "cell_type": "code",
      "metadata": {
        "colab": {
          "base_uri": "https://localhost:8080/"
        },
        "id": "Pg_JKFVAop36",
        "outputId": "a32c9b16-22bf-49de-f01c-caf403a15aa7"
      },
      "source": [
        "explained_variance = pca_rain.explained_variance_ratio_\n",
        "explained_variance "
      ],
      "execution_count": 37,
      "outputs": [
        {
          "output_type": "execute_result",
          "data": {
            "text/plain": [
              "array([0.48271943, 0.11444433, 0.09272254, 0.06370998, 0.06228638,\n",
              "       0.05900557, 0.051727  , 0.02795026, 0.01437901, 0.01076765])"
            ]
          },
          "metadata": {
            "tags": []
          },
          "execution_count": 37
        }
      ]
    },
    {
      "cell_type": "code",
      "metadata": {
        "colab": {
          "base_uri": "https://localhost:8080/",
          "height": 297
        },
        "id": "RaC3lm5Do_un",
        "outputId": "c365e553-5d29-46af-8e07-08e125847b86"
      },
      "source": [
        "# Determine explained variance using explained_variance_ration_ attribute\n",
        "#\n",
        "exp_var_pca = explained_variance\n",
        "#\n",
        "# Cumulative sum of eigenvalues; This will be used to create step plot\n",
        "# for visualizing the variance explained by each principal component.\n",
        "#\n",
        "cum_sum_eigenvalues = np.cumsum(exp_var_pca)\n",
        "#\n",
        "# Create the visualization plot\n",
        "#\n",
        "plt.bar(range(0,len(exp_var_pca)), exp_var_pca, alpha=0.5, align='center', label='Individual explained variance')\n",
        "plt.step(range(0,len(cum_sum_eigenvalues)), cum_sum_eigenvalues, where='mid',label='Cumulative explained variance')\n",
        "plt.ylabel('Explained variance ratio')\n",
        "plt.xlabel('Principal component index')\n",
        "plt.legend(loc='best')\n",
        "plt.tight_layout()\n",
        "plt.show()"
      ],
      "execution_count": 38,
      "outputs": [
        {
          "output_type": "display_data",
          "data": {
            "image/png": "[encoded data removed]",
            "text/plain": [
              "<Figure size 432x288 with 1 Axes>"
            ]
          },
          "metadata": {
            "tags": [],
            "needs_background": "light"
          }
        }
      ]
    },
    {
      "cell_type": "markdown",
      "metadata": {
        "id": "tgeQf8Q8scsw"
      },
      "source": [
        "The output shows that PC1, PC2 and PC3 prespectively account for approximately 48.27%,11.44% and 9.27% of the variance in the data set."
      ]
    },
    {
      "cell_type": "markdown",
      "metadata": {
        "id": "2qFnIwferi7P"
      },
      "source": [
        "Eigendecomposition\n",
        "\n",
        "a)Eigenvectors"
      ]
    },
    {
      "cell_type": "code",
      "metadata": {
        "colab": {
          "base_uri": "https://localhost:8080/"
        },
        "id": "1SJy0MVpr4L-",
        "outputId": "3e79fd4a-d25f-4c2d-e510-9db9416468dc"
      },
      "source": [
        "cov_mat = np.cov(x_train.T)\n",
        "\n",
        "eig_vals, eig_vecs = np.linalg.eig(cov_mat)\n",
        "\n",
        "print('Eigenvectors \\n%s' %eig_vecs)"
      ],
      "execution_count": 39,
      "outputs": [
        {
          "output_type": "stream",
          "text": [
            "Eigenvectors \n",
            "[[ 1.00000000e+00  2.63663015e-16  9.17926838e-17 -3.44790963e-17\n",
            "   2.77467927e-18  8.24261275e-18  3.09913818e-17 -1.62279291e-16\n",
            "   4.18827254e-17 -3.16782815e-18]\n",
            " [ 0.00000000e+00  1.00000000e+00  4.44576025e-17 -1.54874129e-16\n",
            "   2.99573776e-17  8.53703189e-17  5.75963645e-17 -1.08623073e-15\n",
            "   1.72292504e-16 -2.30194789e-16]\n",
            " [ 0.00000000e+00  8.73913094e-16  1.00000000e+00  2.91682580e-16\n",
            "   2.66332948e-16 -1.45942597e-16  2.16899320e-16 -1.11708899e-15\n",
            "   1.07747496e-15  3.62975029e-16]\n",
            " [ 0.00000000e+00  7.87889095e-16 -3.59660330e-16  2.60350666e-16\n",
            "   4.87668949e-17  2.96007445e-16 -2.23010428e-16  1.00000000e+00\n",
            "  -3.54482161e-14  5.26246730e-15]\n",
            " [ 0.00000000e+00 -8.92665123e-17 -1.47865636e-15  3.24042267e-17\n",
            "   2.28678478e-16  5.58359677e-16 -1.30866169e-15  3.14857872e-14\n",
            "   1.00000000e+00 -7.79486377e-15]\n",
            " [ 0.00000000e+00 -2.20019812e-16  2.37914854e-16  1.27600215e-16\n",
            "  -4.26948678e-17 -2.04550450e-16  4.65100314e-16  4.46151342e-15\n",
            "  -6.39202194e-15 -1.00000000e+00]\n",
            " [ 0.00000000e+00 -1.71244525e-17  2.95756024e-16 -9.90716015e-17\n",
            "  -2.52069205e-16  4.35850354e-16 -1.00000000e+00 -1.26018282e-15\n",
            "  -1.90935474e-15  1.93993695e-15]\n",
            " [ 0.00000000e+00 -3.34438860e-17 -1.24439594e-16  4.47067560e-16\n",
            "   3.50874300e-16  1.00000000e+00 -1.59248167e-16  1.45423612e-16\n",
            "  -7.36219298e-16  9.70661512e-17]\n",
            " [ 0.00000000e+00 -1.76223707e-16  6.47140599e-16 -1.00000000e+00\n",
            "  -3.46704322e-16  4.03656380e-16  2.59719937e-16  2.35470847e-16\n",
            "   1.54041280e-16 -1.28153953e-16]\n",
            " [ 0.00000000e+00  1.58143542e-17 -8.66498386e-16 -9.36750213e-16\n",
            "  -1.00000000e+00 -7.49616522e-17  3.86765055e-16 -2.82094347e-17\n",
            "   4.36186658e-17  2.19211467e-16]]\n"
          ],
          "name": "stdout"
        }
      ]
    },
    {
      "cell_type": "markdown",
      "metadata": {
        "id": "RqrEydv3r9YX"
      },
      "source": [
        "b) Eigenvalues"
      ]
    },
    {
      "cell_type": "code",
      "metadata": {
        "colab": {
          "base_uri": "https://localhost:8080/"
        },
        "id": "ChO4Q7hNsDBp",
        "outputId": "45e17a6f-fc93-4dcd-fe09-ec756f7fb237"
      },
      "source": [
        "print('\\nEigenvalues \\n%s' %eig_vals)"
      ],
      "execution_count": 40,
      "outputs": [
        {
          "output_type": "stream",
          "text": [
            "\n",
            "Eigenvalues \n",
            "[7.72408029 1.83124428 1.48367003 0.23008109 0.17229515 0.44723716\n",
            " 0.82769297 1.01943481 0.99665557 0.94415879]\n"
          ],
          "name": "stdout"
        }
      ]
    },
    {
      "cell_type": "markdown",
      "metadata": {
        "id": "fgzEY3lTsxhb"
      },
      "source": [
        "#Feature Importance\n",
        "The importance of each feature is reflected by the magnitude of the corresponding values in the eigenvectors (higher magnitude — higher importance)"
      ]
    },
    {
      "cell_type": "code",
      "metadata": {
        "id": "43yIb2lOs6-E"
      },
      "source": [
        "#print(abs( pca_rain.components_ ))"
      ],
      "execution_count": 486,
      "outputs": []
    },
    {
      "cell_type": "code",
      "metadata": {
        "colab": {
          "base_uri": "https://localhost:8080/",
          "height": 588
        },
        "id": "bZHHXm20vPrU",
        "outputId": "890014f1-2c30-4641-dd4c-88be093870bd"
      },
      "source": [
        "#Let’s find the most important features:\n",
        "# Let's load the packages\n",
        "import numpy as np\n",
        "import pandas as pd\n",
        "from sklearn.datasets import load_boston\n",
        "from sklearn.model_selection import train_test_split\n",
        "from sklearn.ensemble import RandomForestRegressor\n",
        "from sklearn.inspection import permutation_importance\n",
        "#import shap\n",
        "from matplotlib import pyplot as plt\n",
        "\n",
        "plt.rcParams.update({'figure.figsize': (12.0, 8.0)})\n",
        "plt.rcParams.update({'font.size': 14})\n",
        "#Load the data set and split for training and testing.\n",
        "fifa2= fifa\n",
        "X2 = fifa2.drop('out_come',1)\n",
        "y2 = fifa2['out_come']\n",
        "X2_train, X2_test, y2_train, y2_test = train_test_split(X2, y2, test_size=0.25, random_state=12)\n",
        "\n",
        "#Fit the Random Forest Regressor with 100 Decision Trees:\n",
        "\n",
        "rf = RandomForestRegressor(n_estimators=100)\n",
        "rf.fit(X2_train, y2_train)\n",
        "\n",
        "print(rf.feature_importances_)\n",
        "\n",
        "#Let’s plot the importances (chart will be easier to interpret than values).\n",
        "\n",
        "plt.barh(list(X2.columns), rf.feature_importances_)"
      ],
      "execution_count": 41,
      "outputs": [
        {
          "output_type": "stream",
          "text": [
            "[7.32769865e-05 3.53254272e-06 4.91820780e-01 5.07438037e-01\n",
            " 0.00000000e+00 1.50299737e-04 8.31858860e-05 7.76478953e-06\n",
            " 2.11249208e-05 4.30659419e-05 1.55009825e-05 1.83042228e-05\n",
            " 1.30681761e-05 0.00000000e+00 4.02946404e-06 6.68427431e-06\n",
            " 3.01345325e-04]\n"
          ],
          "name": "stdout"
        },
        {
          "output_type": "execute_result",
          "data": {
            "text/plain": [
              "<BarContainer object of 17 artists>"
            ]
          },
          "metadata": {
            "tags": []
          },
          "execution_count": 41
        },
        {
          "output_type": "display_data",
          "data": {
            "image/png": "[encoded data removed]",
            "text/plain": [
              "<Figure size 864x576 with 1 Axes>"
            ]
          },
          "metadata": {
            "tags": [],
            "needs_background": "light"
          }
        }
      ]
    },
    {
      "cell_type": "markdown",
      "metadata": {
        "id": "rg-zu2NG3D-k"
      },
      "source": [
        "#APPROACH 2: LOGISTIC APPROACH\n",
        "\n",
        "#Fitting Logistic Regression"
      ]
    },
    {
      "cell_type": "code",
      "metadata": {
        "colab": {
          "base_uri": "https://localhost:8080/"
        },
        "id": "ngzzUJVr3Xcg",
        "outputId": "32056f5c-3215-49a8-b0eb-4191fd4e3468"
      },
      "source": [
        "# Fitting Logistic Regression To the training set\n",
        "from sklearn.linear_model import LogisticRegression  \n",
        "  \n",
        "classifier = LogisticRegression(random_state = 0)\n",
        "classifier.fit(x_train, y_train)"
      ],
      "execution_count": 42,
      "outputs": [
        {
          "output_type": "execute_result",
          "data": {
            "text/plain": [
              "LogisticRegression(C=1.0, class_weight=None, dual=False, fit_intercept=True,\n",
              "                   intercept_scaling=1, l1_ratio=None, max_iter=100,\n",
              "                   multi_class='auto', n_jobs=None, penalty='l2',\n",
              "                   random_state=0, solver='lbfgs', tol=0.0001, verbose=0,\n",
              "                   warm_start=False)"
            ]
          },
          "metadata": {
            "tags": []
          },
          "execution_count": 42
        }
      ]
    },
    {
      "cell_type": "markdown",
      "metadata": {
        "id": "DuqJoUhj3jNP"
      },
      "source": [
        "*Predicting the test set result*"
      ]
    },
    {
      "cell_type": "code",
      "metadata": {
        "colab": {
          "base_uri": "https://localhost:8080/"
        },
        "id": "5Z4cePJK37Mm",
        "outputId": "2922c309-e24f-413f-d76c-96d7fce18785"
      },
      "source": [
        "# Predicting the test set result using predict function under LogisticRegression \n",
        "y_pred = classifier.predict(x_test)\n",
        "y_pred"
      ],
      "execution_count": 43,
      "outputs": [
        {
          "output_type": "execute_result",
          "data": {
            "text/plain": [
              "array([2, 0, 0, ..., 2, 2, 2])"
            ]
          },
          "metadata": {
            "tags": []
          },
          "execution_count": 43
        }
      ]
    },
    {
      "cell_type": "markdown",
      "metadata": {
        "id": "zIUZIWU24Dat"
      },
      "source": [
        "*Making the confusion matrix*"
      ]
    },
    {
      "cell_type": "code",
      "metadata": {
        "colab": {
          "base_uri": "https://localhost:8080/"
        },
        "id": "gcH2g1u64Npv",
        "outputId": "b0103ba7-10fe-4cbc-f7e0-8070f1b69de5"
      },
      "source": [
        "# making confusion matrix between test set of Y and predicted value.\n",
        "from sklearn.metrics import confusion_matrix\n",
        "from sklearn.metrics import accuracy_score\n",
        "  \n",
        "cm = confusion_matrix(y_test,y_pred)\n",
        "print(cm)\n",
        "\n",
        "print('\\n','Accuracy\\n' ,(accuracy_score(y_test,y_pred)*100),'%')\n",
        "# Accuracy 100%"
      ],
      "execution_count": 44,
      "outputs": [
        {
          "output_type": "stream",
          "text": [
            "[[ 820    0    0]\n",
            " [   0  909    0]\n",
            " [   0    0 1663]]\n",
            "\n",
            " Accuracy\n",
            " 100.0 %\n"
          ],
          "name": "stdout"
        }
      ]
    },
    {
      "cell_type": "markdown",
      "metadata": {
        "id": "Tseuo8N1_13p"
      },
      "source": [
        "#APPROACH 1: POLYNOMIAL APPROACH\n",
        "\n",
        "#Model 1: Predict how many goals the home team scores."
      ]
    },
    {
      "cell_type": "code",
      "metadata": {
        "colab": {
          "base_uri": "https://localhost:8080/"
        },
        "id": "cN-Gz79rAY45",
        "outputId": "a6ef36d2-2fe2-404e-bb5c-0340d8e8faa2"
      },
      "source": [
        "from sklearn.model_selection import train_test_split\n",
        "from sklearn.linear_model import LinearRegression\n",
        "from sklearn import metrics\n",
        "\n",
        "#home_team = home_team_scores[['date','home_team', 'away_team', 'home_team_rank','tournament','home_score']]\n",
        "#home_team\n",
        "\n",
        "#load the data\n",
        "data_ht =home_team\n",
        "\n",
        "#--------------------- Encode the data--------------------------------------------------\n",
        "# Categorical boolean mask\n",
        "categorical_feature_mask = data_ht.dtypes==object\n",
        "# filter categorical columns using mask and turn it into a list\n",
        "categorical_cols = data_ht.columns[categorical_feature_mask].tolist()\n",
        "# import labelencoder\n",
        "from sklearn.preprocessing import LabelEncoder\n",
        "# instantiate labelencoder object\n",
        "le = LabelEncoder()\n",
        "# apply le on categorical feature columns\n",
        "data_ht[categorical_cols] = data_ht[categorical_cols].apply(lambda col: le.fit_transform(col))\n",
        "data_ht[categorical_cols].head(10)\n",
        "#----------------------------------------------------------------------------------------\n",
        "\n",
        "# We will use 4 independent variables for this\n",
        "hX = data_ht[['home_team', 'away_team', 'home_team_rank','tournament']].values\n",
        "hy = data_ht['home_score'].values\n",
        "\n",
        "# Train using 80% of the data.\n",
        "hX_train, hX_test, hy_train, hy_test = train_test_split(hX, hy, test_size=0.2, random_state=0)\n",
        "\n",
        "# find optimal coefficients and intercept\n",
        "regressor = LinearRegression()  \n",
        "regressor.fit(hX_train, hy_train)\n",
        "\n",
        "# assess the accuraccy of the model\n",
        "hy_pred = regressor.predict(hX_test)\n",
        "\n",
        "print('Mean Absolute Error:', metrics.mean_absolute_error(hy_test, hy_pred))  \n",
        "print('Mean Squared Error:', metrics.mean_squared_error(hy_test, hy_pred))  \n",
        "print('Root Mean Squared Error:', np.sqrt(metrics.mean_squared_error(hy_test, hy_pred)))"
      ],
      "execution_count": 63,
      "outputs": [
        {
          "output_type": "stream",
          "text": [
            "Mean Absolute Error: 1.2078375863595352\n",
            "Mean Squared Error: 3.2094909776436156\n",
            "Root Mean Squared Error: 1.7915052267977383\n"
          ],
          "name": "stdout"
        }
      ]
    },
    {
      "cell_type": "markdown",
      "metadata": {
        "id": "QZR3gFlvHW2c"
      },
      "source": [
        "Running the code above should yield an RMSE of ~3.2094. Let's now cross validate our model by using k-fold cross validation. "
      ]
    },
    {
      "cell_type": "markdown",
      "metadata": {
        "id": "2CdO_zObHomN"
      },
      "source": [
        "#k-fold cross validation"
      ]
    },
    {
      "cell_type": "code",
      "metadata": {
        "colab": {
          "base_uri": "https://localhost:8080/"
        },
        "id": "SuPGLArsHwU3",
        "outputId": "c9e1df70-f385-490a-c121-63b060c18c48"
      },
      "source": [
        "from sklearn.model_selection import KFold\n",
        "\n",
        "# We will use the same 4 independent variables for this\n",
        "\n",
        "hX = data_ht[['home_team', 'away_team', 'home_team_rank','tournament']].values\n",
        "hy = data_ht['home_score'].values\n",
        "\n",
        "folds = KFold(n_splits=5)\n",
        "\n",
        "# note that if you have a KFold object, you can figure out how many folds you set up \n",
        "# for it using get_n_splits\n",
        "print('we are using ' +str(folds.get_n_splits(hX)) + ' folds')\n",
        "\n",
        "# We now create and assess 5 models based on the folds we created.\n",
        "RMSES = [] # We will use this array to keep track of the RSME of each model\n",
        "count = 1 # This will just help \n",
        "for train_index, test_index in folds.split(hX):\n",
        "  print('\\nTraining model ' + str(count))\n",
        "  \n",
        "  # set up the train and test based on the split determined by KFold\n",
        "  # With 5 folds, we will end up with 80% of our data in the training set, and 20% in the test set, just as above\n",
        "  hX_train, hX_test = hX[train_index], hX[test_index]\n",
        "  hy_train, hy_test = hy[train_index],hy[test_index]\n",
        "  \n",
        "  # fit a model accordingly\n",
        "  regressor = LinearRegression()  \n",
        "  regressor.fit(hX_train, hy_train)\n",
        "  \n",
        "  # assess the accuraccy of the model\n",
        "  hy_pred = regressor.predict(hX_test)\n",
        "  \n",
        "  rmse_value =  np.sqrt(metrics.mean_squared_error(hy_test, hy_pred))\n",
        "  RMSES.append(rmse_value)\n",
        "  \n",
        "  print('Model ' + str(count) + ' Root Mean Squared Error:',rmse_value)\n",
        "  count = count + 1"
      ],
      "execution_count": 54,
      "outputs": [
        {
          "output_type": "stream",
          "text": [
            "we are using 5 folds\n",
            "\n",
            "Training model 1\n",
            "Model 1 Root Mean Squared Error: 1.72391552527832\n",
            "\n",
            "Training model 2\n",
            "Model 2 Root Mean Squared Error: 1.8452157945757344\n",
            "\n",
            "Training model 3\n",
            "Model 3 Root Mean Squared Error: 1.5820000000244767\n",
            "\n",
            "Training model 4\n",
            "Model 4 Root Mean Squared Error: 1.559177530199576\n",
            "\n",
            "Training model 5\n",
            "Model 5 Root Mean Squared Error: 1.5100821479279865\n"
          ],
          "name": "stdout"
        }
      ]
    },
    {
      "cell_type": "markdown",
      "metadata": {
        "id": "1uAjH9-UI6dc"
      },
      "source": [
        "The RMSE value for our first model is equal to the RMSE we found initially.In this case, we will pick model 5 since it has the least RMSE."
      ]
    },
    {
      "cell_type": "code",
      "metadata": {
        "colab": {
          "base_uri": "https://localhost:8080/"
        },
        "id": "ot18prnSJl3Z",
        "outputId": "c31d41e3-9a95-418d-bd45-6c8a1695e984"
      },
      "source": [
        "np.mean(RMSES)"
      ],
      "execution_count": 55,
      "outputs": [
        {
          "output_type": "execute_result",
          "data": {
            "text/plain": [
              "1.6440781996012188"
            ]
          },
          "metadata": {
            "tags": []
          },
          "execution_count": 55
        }
      ]
    },
    {
      "cell_type": "markdown",
      "metadata": {
        "id": "JTCuW6AkJvnd"
      },
      "source": [
        "#Let's now highlight some variants of k-folds.\n",
        "\n",
        " A popular variant is called the leave one out cross validation, where the test data is just a single observation from your set. For a dataset of size n, this is the same as using kfold to create n folds."
      ]
    },
    {
      "cell_type": "code",
      "metadata": {
        "colab": {
          "base_uri": "https://localhost:8080/"
        },
        "id": "KoJlw-kPKIbr",
        "outputId": "11367763-4c09-4bb6-c17b-dbe4695d759d"
      },
      "source": [
        "from sklearn.model_selection import LeaveOneOut\n",
        "\n",
        "\n",
        "#load the data\n",
        "data_ht =home_team\n",
        "\n",
        "# We will use the same 4 independent variables for this\n",
        "hX = data_ht[['home_team', 'away_team', 'home_team_rank','tournament']].values\n",
        "hy = data_ht['home_score'].values\n",
        "\n",
        "folds = LeaveOneOut()\n",
        "\n",
        "# note that if you have a KFold object, you can figure out how many folds you set up \n",
        "# for it using get_n_splits\n",
        "print('we are using ' +str(folds.get_n_splits(hX)) + ' folds')\n",
        "\n",
        "# We now create and assess 5 models based on the folds we created.\n",
        "RMSES = [] # We will use this array to keep track of the RSME of each model\n",
        "count = 0 # This will just help \n",
        "for train_index, test_index in folds.split(hX):\n",
        "  \n",
        "  # set up the train and test based on the split determined by KFold\n",
        "  # With 5 folds, we will end up with 80% of our data in the training set, and 20% in the test set, just as above\n",
        "  hX_train, hX_test = hX[train_index], hX[test_index]\n",
        "  hy_train, hy_test = hy[train_index], hy[test_index]\n",
        "  \n",
        "  # fit a model accordingly\n",
        "  regressor = LinearRegression()  \n",
        "  regressor.fit(hX_train, hy_train)\n",
        "  \n",
        "  # assess the accuraccy of the model\n",
        "  hy_pred = regressor.predict(hX_test)\n",
        "  \n",
        "  rmse_value =  np.sqrt(metrics.mean_squared_error(hy_test, hy_pred))\n",
        "  RMSES.append(rmse_value)\n",
        "  \n",
        "  count = count + 1\n",
        "print('trained ' + str(count) + ' models' )\n",
        "print(np.mean(RMSES))"
      ],
      "execution_count": 56,
      "outputs": [
        {
          "output_type": "stream",
          "text": [
            "we are using 18609 folds\n",
            "trained 18609 models\n"
          ],
          "name": "stdout"
        },
        {
          "output_type": "execute_result",
          "data": {
            "text/plain": [
              "1.18933313022588"
            ]
          },
          "metadata": {
            "tags": []
          },
          "execution_count": 56
        }
      ]
    },
    {
      "cell_type": "markdown",
      "metadata": {
        "id": "l0ZLXkYXLW4f"
      },
      "source": [
        "In this scenario it is also helpful to plot out the RMSE values across all models:"
      ]
    },
    {
      "cell_type": "code",
      "metadata": {
        "colab": {
          "base_uri": "https://localhost:8080/",
          "height": 505
        },
        "id": "JqvGed_dLhjS",
        "outputId": "b60582ed-a4e2-4886-954c-81531ee6c41a"
      },
      "source": [
        "import matplotlib.pyplot as plt\n",
        "\n",
        "plt.plot(RMSES)\n",
        "plt.ylabel('RMSE value')\n",
        "plt.xlabel('model ID')\n",
        "plt.show()"
      ],
      "execution_count": 57,
      "outputs": [
        {
          "output_type": "display_data",
          "data": {
            "image/png": "[encoded data removed]",
            "text/plain": [
              "<Figure size 864x576 with 1 Axes>"
            ]
          },
          "metadata": {
            "tags": [],
            "needs_background": "light"
          }
        }
      ]
    },
    {
      "cell_type": "markdown",
      "metadata": {
        "id": "KLftDk5eNKHi"
      },
      "source": [
        "#Assessing  heteroscedasticity via Bartlett’s test"
      ]
    },
    {
      "cell_type": "markdown",
      "metadata": {
        "id": "cNUcK4cxNXUr"
      },
      "source": [
        "#Polynomial Regression"
      ]
    },
    {
      "cell_type": "code",
      "metadata": {
        "id": "DPVoN0T3NvfS"
      },
      "source": [
        "#Import libaries\n",
        "import numpy as np\n",
        "import pandas as pd\n",
        "import matplotlib.pyplot as plt\n",
        "\n",
        "from sklearn.preprocessing import PolynomialFeatures\n",
        "\n",
        "from sklearn.model_selection import train_test_split\n",
        "\n",
        "# Import LinearRegression method from sklearn linear_model library\n",
        "from sklearn.linear_model import LinearRegression"
      ],
      "execution_count": 88,
      "outputs": []
    },
    {
      "cell_type": "code",
      "metadata": {
        "id": "fQmjsNp0OC1d"
      },
      "source": [
        "#load the data\n",
        "#data_ht =home_team Encoded\n",
        "\n",
        "hX = data_ht[['home_team']].values\n",
        "hy = data_ht['home_score'].values"
      ],
      "execution_count": 87,
      "outputs": []
    },
    {
      "cell_type": "code",
      "metadata": {
        "colab": {
          "base_uri": "https://localhost:8080/",
          "height": 1000
        },
        "id": "g5jkjKszOek6",
        "outputId": "0605b7ca-a7ca-47d8-c2ba-41c491bad270"
      },
      "source": [
        "# Split the dataset into train and test sets\n",
        "hX_train, hY_train, hX_test, hY_test = train_test_split(hX,hy, test_size = 0.2, random_state=0)\n",
        "\n",
        "\n",
        "# Fit Linear Regression model to the dataset(this is optional. We are doing this for the sole purpose of comparing the linear regression model to the polynomial regression model)\n",
        "reg_line = LinearRegression()\n",
        "reg_line.fit(hX,hy)\n",
        "\n",
        "# Visualize the Linear Regression results\n",
        "plt.scatter(hX, hy, color='blue') # You can put any color you like. This just helps us highlight the data points\n",
        "plt.plot(hX, reg_line.predict(hX), color='red')\n",
        "plt.title('Goals Prediction(Linear Regression)')\n",
        "plt.xlabel('home_team')\n",
        "plt.ylabel('home_score')\n",
        "plt.show()\n",
        "\n",
        "\n",
        "# Fit polynomial Regression to the dataset\n",
        "poly_reg = PolynomialFeatures(degree = 2) \n",
        "hX_poly = poly_reg.fit_transform(hX)\n",
        "\n",
        "\n",
        "pol_reg = LinearRegression()\n",
        "pol_reg.fit(hX_poly, hy)\n",
        "\n",
        "#Visualize the Polynomial Regression results\n",
        "plt.scatter(hX, hy, color='blue') # You can put any color you like. This just helps us highlight the data points\n",
        "plt.plot(hX, pol_reg.predict(hX_poly), color='red')\n",
        "plt.title('Goals Prediction(Linear Regression)')\n",
        "plt.xlabel('home_team')\n",
        "plt.ylabel('home_score')\n",
        "plt.show()\n"
      ],
      "execution_count": 90,
      "outputs": [
        {
          "output_type": "display_data",
          "data": {
            "image/png": "[encoded data removed]",
            "text/plain": [
              "<Figure size 864x576 with 1 Axes>"
            ]
          },
          "metadata": {
            "tags": [],
            "needs_background": "light"
          }
        },
        {
          "output_type": "display_data",
          "data": {
            "image/png": "[encoded data removed]",
            "text/plain": [
              "<Figure size 864x576 with 1 Axes>"
            ]
          },
          "metadata": {
            "tags": [],
            "needs_background": "light"
          }
        }
      ]
    },
    {
      "cell_type": "markdown",
      "metadata": {
        "id": "16UQv6WjST_q"
      },
      "source": [
        "#Optimization in Polynomial Regression"
      ]
    },
    {
      "cell_type": "code",
      "metadata": {
        "colab": {
          "base_uri": "https://localhost:8080/",
          "height": 525
        },
        "id": "OCVCtLm0SinW",
        "outputId": "b2646766-31ef-4bde-9d83-bebc061350e7"
      },
      "source": [
        "# To improve on the model, all we need to do is to increase degree of the polynomial\n",
        "# Let's increase the degree to 3\n",
        "\n",
        "# Fit polynomial Regression to the dataset\n",
        "poly_reg = PolynomialFeatures(degree =10) \n",
        "hX_poly = poly_reg.fit_transform(hX)\n",
        "\n",
        "\n",
        "pol_reg = LinearRegression()\n",
        "pol_reg.fit(hX_poly, hy)\n",
        "\n",
        "#Visualize the Polynomial Regression results\n",
        "plt.scatter(hX, hy, color='blue') # You can put any color you like. This just helps us highlight the data points\n",
        "plt.plot(hX, pol_reg.predict(hX_poly), color='red')\n",
        "plt.title('Goals Prediction(Linear Regression)')\n",
        "plt.xlabel('home_team')\n",
        "plt.ylabel('home_score')\n",
        "plt.show()"
      ],
      "execution_count": 93,
      "outputs": [
        {
          "output_type": "display_data",
          "data": {
            "image/png": "[encoded data removed]",
            "text/plain": [
              "<Figure size 864x576 with 1 Axes>"
            ]
          },
          "metadata": {
            "tags": [],
            "needs_background": "light"
          }
        }
      ]
    },
    {
      "cell_type": "markdown",
      "metadata": {
        "id": "WjRKCb2EUOMb"
      },
      "source": [
        "Obsevartion\n",
        "\n",
        "We can conclude that this is a pretty good model because it passes just about the right amoung of points and also the distance from the curve to the points that it does not pass through is at a minimum. Hence, we can use this model to make our predictions."
      ]
    },
    {
      "cell_type": "markdown",
      "metadata": {
        "id": "5AReMffPUffo"
      },
      "source": [
        "#Making Predictions\n",
        "\n",
        "The final step is use the model we created to make the our desired prediction.\n",
        "\n",
        "To check how accurate polynomial regression is, we are going to predict the goals using both linear regression and polynomial regression"
      ]
    },
    {
      "cell_type": "code",
      "metadata": {
        "colab": {
          "base_uri": "https://localhost:8080/"
        },
        "id": "88jWgXJSUHOE",
        "outputId": "a6e5c2b9-5058-4e5a-b37e-115085cde5d8"
      },
      "source": [
        "# Predict using linear regression\n",
        "lin_pred = reg_line.predict([[125]])\n",
        "print('Linear prediction: %d' %lin_pred)\n",
        "\n",
        "# Predict using Polynomial Regression\n",
        "poly_pred = pol_reg.predict(poly_reg.fit_transform([[125]]))\n",
        "print('Polynomial prediction: %d' %poly_pred)\n",
        "\n",
        "# We can also get the predictions as an array\n",
        "poly_arr_pred = pol_reg.predict(poly_reg.fit_transform(hX))"
      ],
      "execution_count": 97,
      "outputs": [
        {
          "output_type": "stream",
          "text": [
            "Linear prediction: 1\n",
            "Polynomial prediction: 1\n"
          ],
          "name": "stdout"
        }
      ]
    },
    {
      "cell_type": "markdown",
      "metadata": {
        "id": "LiqIx21UXgla"
      },
      "source": [
        "#Conclusion\n",
        "\n",
        "The predicted gaols for home team  using linear regression is one(1), Which is equivalent to the predicted gaols via polynomial regression is one(1)."
      ]
    },
    {
      "cell_type": "markdown",
      "metadata": {
        "id": "GSr8cvm_X6dr"
      },
      "source": [
        "#Challenge the solution.\n",
        "\n",
        "Although the logistic and polinomial regression have sucessfully pridicted the outcome the solution could be improved through machine learning techniques.\n",
        "\n",
        "#Follow up questions.\n",
        "\n",
        "* **Do we need more predictor variables to carry out the task?**\n",
        "\n",
        "  Probally yes be couse there are more factors influencing a macth out come.\n",
        "\n",
        "\n",
        "* **Did the study adopt the correct regression technique?**\n",
        " \n",
        "  OPen for further research."
      ]
    }
  ]
}